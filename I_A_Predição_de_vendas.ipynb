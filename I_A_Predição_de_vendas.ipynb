{
  "nbformat": 4,
  "nbformat_minor": 0,
  "metadata": {
    "kernelspec": {
      "display_name": "Python 3",
      "language": "python",
      "name": "python3"
    },
    "language_info": {
      "codemirror_mode": {
        "name": "ipython",
        "version": 3
      },
      "file_extension": ".py",
      "mimetype": "text/x-python",
      "name": "python",
      "nbconvert_exporter": "python",
      "pygments_lexer": "ipython3",
      "version": "3.7.9"
    },
    "papermill": {
      "default_parameters": {},
      "duration": 183.02005,
      "end_time": "2021-01-28T19:27:27.012857",
      "environment_variables": {},
      "exception": null,
      "input_path": "__notebook__.ipynb",
      "output_path": "__notebook__.ipynb",
      "parameters": {},
      "start_time": "2021-01-28T19:24:23.992807",
      "version": "2.2.2"
    },
    "colab": {
      "name": "I.A_Predição_de_vendas.ipynb",
      "provenance": []
    }
  },
  "cells": [
    {
      "cell_type": "code",
      "metadata": {
        "execution": {
          "iopub.execute_input": "2021-01-28T19:24:30.603508Z",
          "iopub.status.busy": "2021-01-28T19:24:30.602489Z",
          "iopub.status.idle": "2021-01-28T19:24:30.607102Z",
          "shell.execute_reply": "2021-01-28T19:24:30.607633Z"
        },
        "papermill": {
          "duration": 0.043807,
          "end_time": "2021-01-28T19:24:30.607963",
          "exception": false,
          "start_time": "2021-01-28T19:24:30.564156",
          "status": "completed"
        },
        "tags": [],
        "id": "ae33qfuxkagU"
      },
      "source": [
        "#Library for data manipulation and analysis\n",
        "import pandas as pd"
      ],
      "execution_count": null,
      "outputs": []
    },
    {
      "cell_type": "code",
      "metadata": {
        "execution": {
          "iopub.execute_input": "2021-01-28T19:24:30.756892Z",
          "iopub.status.busy": "2021-01-28T19:24:30.756206Z",
          "iopub.status.idle": "2021-01-28T19:24:30.758453Z",
          "shell.execute_reply": "2021-01-28T19:24:30.758964Z"
        },
        "papermill": {
          "duration": 0.039766,
          "end_time": "2021-01-28T19:24:30.759154",
          "exception": false,
          "start_time": "2021-01-28T19:24:30.719388",
          "status": "completed"
        },
        "tags": [],
        "id": "nICvd2GckagX"
      },
      "source": [
        "import os"
      ],
      "execution_count": null,
      "outputs": []
    },
    {
      "cell_type": "code",
      "metadata": {
        "execution": {
          "iopub.execute_input": "2021-01-28T19:24:30.836648Z",
          "iopub.status.busy": "2021-01-28T19:24:30.833821Z",
          "iopub.status.idle": "2021-01-28T19:24:33.192932Z",
          "shell.execute_reply": "2021-01-28T19:24:33.193512Z"
        },
        "papermill": {
          "duration": 2.401957,
          "end_time": "2021-01-28T19:24:33.193862",
          "exception": false,
          "start_time": "2021-01-28T19:24:30.791905",
          "status": "completed"
        },
        "tags": [],
        "colab": {
          "base_uri": "https://localhost:8080/"
        },
        "id": "ZqbTzBNjkagY",
        "outputId": "c32c2632-a920-4838-a8f7-4ec832d205ec"
      },
      "source": [
        "import numpy as np\n",
        "from numpy.random import seed\n",
        "from numpy.random import randn\n",
        "\n",
        "\n",
        "\n",
        "from sklearn import linear_model\n",
        "from statsmodels.stats.outliers_influence import variance_inflation_factor\n",
        "from statsmodels.graphics.gofplots import qqplot\n",
        "import statsmodels.api as sm\n",
        "\n",
        "import matplotlib.pyplot as plt\n",
        "%matplotlib inline\n",
        "plt.style.use('seaborn-whitegrid')\n",
        "\n",
        "import seaborn as sns\n",
        "sns.set(style=\"whitegrid\")\n",
        "\n",
        "import math\n",
        "%config IPCompleter.greedy=True\n",
        "\n",
        "import csv\n",
        "import time\n",
        "\n",
        "import scipy.stats as stats"
      ],
      "execution_count": null,
      "outputs": [
        {
          "output_type": "stream",
          "text": [
            "/usr/local/lib/python3.6/dist-packages/statsmodels/tools/_testing.py:19: FutureWarning: pandas.util.testing is deprecated. Use the functions in the public API at pandas.testing instead.\n",
            "  import pandas.util.testing as tm\n"
          ],
          "name": "stderr"
        }
      ]
    },
    {
      "cell_type": "code",
      "metadata": {
        "execution": {
          "iopub.execute_input": "2021-01-28T19:24:33.265723Z",
          "iopub.status.busy": "2021-01-28T19:24:33.265042Z",
          "iopub.status.idle": "2021-01-28T19:24:33.270322Z",
          "shell.execute_reply": "2021-01-28T19:24:33.269636Z"
        },
        "papermill": {
          "duration": 0.042515,
          "end_time": "2021-01-28T19:24:33.270466",
          "exception": false,
          "start_time": "2021-01-28T19:24:33.227951",
          "status": "completed"
        },
        "tags": [],
        "id": "_dqfJHugkagY"
      },
      "source": [
        "import warnings\n",
        "warnings.filterwarnings('always')\n",
        "warnings.filterwarnings('ignore')"
      ],
      "execution_count": null,
      "outputs": []
    },
    {
      "cell_type": "code",
      "metadata": {
        "execution": {
          "iopub.execute_input": "2021-01-28T19:24:33.341163Z",
          "iopub.status.busy": "2021-01-28T19:24:33.340502Z",
          "iopub.status.idle": "2021-01-28T19:24:33.343086Z",
          "shell.execute_reply": "2021-01-28T19:24:33.343595Z"
        },
        "papermill": {
          "duration": 0.040281,
          "end_time": "2021-01-28T19:24:33.343788",
          "exception": false,
          "start_time": "2021-01-28T19:24:33.303507",
          "status": "completed"
        },
        "tags": [],
        "id": "lCfrmo0vkagZ"
      },
      "source": [
        "##1.\tRead the ‘csv’ file provided "
      ],
      "execution_count": null,
      "outputs": []
    },
    {
      "cell_type": "code",
      "metadata": {
        "execution": {
          "iopub.execute_input": "2021-01-28T19:24:33.418500Z",
          "iopub.status.busy": "2021-01-28T19:24:33.417628Z",
          "iopub.status.idle": "2021-01-28T19:24:34.356148Z",
          "shell.execute_reply": "2021-01-28T19:24:34.355212Z"
        },
        "papermill": {
          "duration": 0.979161,
          "end_time": "2021-01-28T19:24:34.356338",
          "exception": false,
          "start_time": "2021-01-28T19:24:33.377177",
          "status": "completed"
        },
        "tags": [],
        "id": "VE6FdAWkkagZ"
      },
      "source": [
        "dataset = pd.read_csv(\"/content/drive/MyDrive/Colab Notebooks/archive/train_data.csv\", names=['date','product_identifier','department_identifier','category_of_product','outlet','state','sales'],sep=',', header=0)\n",
        "prod_price = pd.read_csv(\"/content/drive/MyDrive/Colab Notebooks/archive/product_prices.csv\",sep=',', header=0,names=['outlet','product_identifier','week_id','sell_price'])\n",
        "date_week=pd.read_csv(\"/content/drive/MyDrive/Colab Notebooks/archive/date_to_week_id_map.csv\",sep=',',header=0, names=['date','week_id'])"
      ],
      "execution_count": null,
      "outputs": []
    },
    {
      "cell_type": "code",
      "metadata": {
        "colab": {
          "base_uri": "https://localhost:8080/"
        },
        "id": "pJOoVCqFlA2t",
        "outputId": "50803d0d-8321-46d5-cba8-f8a4fd9d8d77"
      },
      "source": [
        "from google.colab import drive\n",
        "drive.mount('/content/drive')"
      ],
      "execution_count": null,
      "outputs": [
        {
          "output_type": "stream",
          "text": [
            "Drive already mounted at /content/drive; to attempt to forcibly remount, call drive.mount(\"/content/drive\", force_remount=True).\n"
          ],
          "name": "stdout"
        }
      ]
    },
    {
      "cell_type": "code",
      "metadata": {
        "execution": {
          "iopub.execute_input": "2021-01-28T19:24:34.428327Z",
          "iopub.status.busy": "2021-01-28T19:24:34.427352Z",
          "iopub.status.idle": "2021-01-28T19:24:34.431461Z",
          "shell.execute_reply": "2021-01-28T19:24:34.432149Z"
        },
        "papermill": {
          "duration": 0.041564,
          "end_time": "2021-01-28T19:24:34.432333",
          "exception": false,
          "start_time": "2021-01-28T19:24:34.390769",
          "status": "completed"
        },
        "tags": [],
        "id": "HNVUNy18kaga"
      },
      "source": [
        "##a.\tGet the dimensions of the data"
      ],
      "execution_count": null,
      "outputs": []
    },
    {
      "cell_type": "code",
      "metadata": {
        "execution": {
          "iopub.execute_input": "2021-01-28T19:24:34.503825Z",
          "iopub.status.busy": "2021-01-28T19:24:34.502744Z",
          "iopub.status.idle": "2021-01-28T19:24:34.509472Z",
          "shell.execute_reply": "2021-01-28T19:24:34.510162Z"
        },
        "papermill": {
          "duration": 0.044534,
          "end_time": "2021-01-28T19:24:34.510372",
          "exception": false,
          "start_time": "2021-01-28T19:24:34.465838",
          "status": "completed"
        },
        "tags": [],
        "colab": {
          "base_uri": "https://localhost:8080/"
        },
        "id": "0j8TLvAKkaga",
        "outputId": "c307e796-83f3-452b-bfc8-cceae8bd52aa"
      },
      "source": [
        "dataset.shape, prod_price.shape, date_week.shape"
      ],
      "execution_count": null,
      "outputs": [
        {
          "output_type": "execute_result",
          "data": {
            "text/plain": [
              "((395000, 7), (59000, 4), (821, 2))"
            ]
          },
          "metadata": {
            "tags": []
          },
          "execution_count": 9
        }
      ]
    },
    {
      "cell_type": "code",
      "metadata": {
        "execution": {
          "iopub.execute_input": "2021-01-28T19:24:34.583857Z",
          "iopub.status.busy": "2021-01-28T19:24:34.583176Z",
          "iopub.status.idle": "2021-01-28T19:24:34.585416Z",
          "shell.execute_reply": "2021-01-28T19:24:34.585914Z"
        },
        "papermill": {
          "duration": 0.041348,
          "end_time": "2021-01-28T19:24:34.586115",
          "exception": false,
          "start_time": "2021-01-28T19:24:34.544767",
          "status": "completed"
        },
        "tags": [],
        "id": "umujGMIGkagb"
      },
      "source": [
        "##merge csv files"
      ],
      "execution_count": null,
      "outputs": []
    },
    {
      "cell_type": "code",
      "metadata": {
        "execution": {
          "iopub.execute_input": "2021-01-28T19:24:34.658075Z",
          "iopub.status.busy": "2021-01-28T19:24:34.657409Z",
          "iopub.status.idle": "2021-01-28T19:24:35.007918Z",
          "shell.execute_reply": "2021-01-28T19:24:35.007347Z"
        },
        "papermill": {
          "duration": 0.387553,
          "end_time": "2021-01-28T19:24:35.008081",
          "exception": false,
          "start_time": "2021-01-28T19:24:34.620528",
          "status": "completed"
        },
        "tags": [],
        "colab": {
          "base_uri": "https://localhost:8080/",
          "height": 419
        },
        "id": "C5iun1Vkkagb",
        "outputId": "b5b32d86-9616-4c19-fae0-41480516b927"
      },
      "source": [
        "df=pd.merge(prod_price,date_week, on=['week_id'], how='inner')\n",
        "dataset=pd.merge(dataset,df, on=['date','product_identifier','outlet'], how='inner')\n",
        "dataset"
      ],
      "execution_count": null,
      "outputs": [
        {
          "output_type": "execute_result",
          "data": {
            "text/html": [
              "<div>\n",
              "<style scoped>\n",
              "    .dataframe tbody tr th:only-of-type {\n",
              "        vertical-align: middle;\n",
              "    }\n",
              "\n",
              "    .dataframe tbody tr th {\n",
              "        vertical-align: top;\n",
              "    }\n",
              "\n",
              "    .dataframe thead th {\n",
              "        text-align: right;\n",
              "    }\n",
              "</style>\n",
              "<table border=\"1\" class=\"dataframe\">\n",
              "  <thead>\n",
              "    <tr style=\"text-align: right;\">\n",
              "      <th></th>\n",
              "      <th>date</th>\n",
              "      <th>product_identifier</th>\n",
              "      <th>department_identifier</th>\n",
              "      <th>category_of_product</th>\n",
              "      <th>outlet</th>\n",
              "      <th>state</th>\n",
              "      <th>sales</th>\n",
              "      <th>week_id</th>\n",
              "      <th>sell_price</th>\n",
              "    </tr>\n",
              "  </thead>\n",
              "  <tbody>\n",
              "    <tr>\n",
              "      <th>0</th>\n",
              "      <td>2012-01-01</td>\n",
              "      <td>74</td>\n",
              "      <td>11</td>\n",
              "      <td>others</td>\n",
              "      <td>111</td>\n",
              "      <td>Maharashtra</td>\n",
              "      <td>0</td>\n",
              "      <td>49</td>\n",
              "      <td>2.94</td>\n",
              "    </tr>\n",
              "    <tr>\n",
              "      <th>1</th>\n",
              "      <td>2012-01-01</td>\n",
              "      <td>337</td>\n",
              "      <td>11</td>\n",
              "      <td>others</td>\n",
              "      <td>111</td>\n",
              "      <td>Maharashtra</td>\n",
              "      <td>1</td>\n",
              "      <td>49</td>\n",
              "      <td>7.44</td>\n",
              "    </tr>\n",
              "    <tr>\n",
              "      <th>2</th>\n",
              "      <td>2012-01-01</td>\n",
              "      <td>423</td>\n",
              "      <td>12</td>\n",
              "      <td>others</td>\n",
              "      <td>111</td>\n",
              "      <td>Maharashtra</td>\n",
              "      <td>0</td>\n",
              "      <td>49</td>\n",
              "      <td>0.97</td>\n",
              "    </tr>\n",
              "    <tr>\n",
              "      <th>3</th>\n",
              "      <td>2012-01-01</td>\n",
              "      <td>432</td>\n",
              "      <td>12</td>\n",
              "      <td>others</td>\n",
              "      <td>111</td>\n",
              "      <td>Maharashtra</td>\n",
              "      <td>0</td>\n",
              "      <td>49</td>\n",
              "      <td>4.97</td>\n",
              "    </tr>\n",
              "    <tr>\n",
              "      <th>4</th>\n",
              "      <td>2012-01-01</td>\n",
              "      <td>581</td>\n",
              "      <td>21</td>\n",
              "      <td>fast_moving_consumer_goods</td>\n",
              "      <td>111</td>\n",
              "      <td>Maharashtra</td>\n",
              "      <td>0</td>\n",
              "      <td>49</td>\n",
              "      <td>4.88</td>\n",
              "    </tr>\n",
              "    <tr>\n",
              "      <th>...</th>\n",
              "      <td>...</td>\n",
              "      <td>...</td>\n",
              "      <td>...</td>\n",
              "      <td>...</td>\n",
              "      <td>...</td>\n",
              "      <td>...</td>\n",
              "      <td>...</td>\n",
              "      <td>...</td>\n",
              "      <td>...</td>\n",
              "    </tr>\n",
              "    <tr>\n",
              "      <th>394995</th>\n",
              "      <td>2014-02-28</td>\n",
              "      <td>2932</td>\n",
              "      <td>33</td>\n",
              "      <td>drinks_and_food</td>\n",
              "      <td>333</td>\n",
              "      <td>Kerala</td>\n",
              "      <td>2</td>\n",
              "      <td>161</td>\n",
              "      <td>2.78</td>\n",
              "    </tr>\n",
              "    <tr>\n",
              "      <th>394996</th>\n",
              "      <td>2014-02-28</td>\n",
              "      <td>2935</td>\n",
              "      <td>33</td>\n",
              "      <td>drinks_and_food</td>\n",
              "      <td>333</td>\n",
              "      <td>Kerala</td>\n",
              "      <td>8</td>\n",
              "      <td>161</td>\n",
              "      <td>0.20</td>\n",
              "    </tr>\n",
              "    <tr>\n",
              "      <th>394997</th>\n",
              "      <td>2014-02-28</td>\n",
              "      <td>3004</td>\n",
              "      <td>33</td>\n",
              "      <td>drinks_and_food</td>\n",
              "      <td>333</td>\n",
              "      <td>Kerala</td>\n",
              "      <td>0</td>\n",
              "      <td>161</td>\n",
              "      <td>2.50</td>\n",
              "    </tr>\n",
              "    <tr>\n",
              "      <th>394998</th>\n",
              "      <td>2014-02-28</td>\n",
              "      <td>3008</td>\n",
              "      <td>33</td>\n",
              "      <td>drinks_and_food</td>\n",
              "      <td>333</td>\n",
              "      <td>Kerala</td>\n",
              "      <td>0</td>\n",
              "      <td>161</td>\n",
              "      <td>1.98</td>\n",
              "    </tr>\n",
              "    <tr>\n",
              "      <th>394999</th>\n",
              "      <td>2014-02-28</td>\n",
              "      <td>3021</td>\n",
              "      <td>33</td>\n",
              "      <td>drinks_and_food</td>\n",
              "      <td>333</td>\n",
              "      <td>Kerala</td>\n",
              "      <td>0</td>\n",
              "      <td>161</td>\n",
              "      <td>2.08</td>\n",
              "    </tr>\n",
              "  </tbody>\n",
              "</table>\n",
              "<p>395000 rows × 9 columns</p>\n",
              "</div>"
            ],
            "text/plain": [
              "              date  product_identifier  ...  week_id sell_price\n",
              "0       2012-01-01                  74  ...       49       2.94\n",
              "1       2012-01-01                 337  ...       49       7.44\n",
              "2       2012-01-01                 423  ...       49       0.97\n",
              "3       2012-01-01                 432  ...       49       4.97\n",
              "4       2012-01-01                 581  ...       49       4.88\n",
              "...            ...                 ...  ...      ...        ...\n",
              "394995  2014-02-28                2932  ...      161       2.78\n",
              "394996  2014-02-28                2935  ...      161       0.20\n",
              "394997  2014-02-28                3004  ...      161       2.50\n",
              "394998  2014-02-28                3008  ...      161       1.98\n",
              "394999  2014-02-28                3021  ...      161       2.08\n",
              "\n",
              "[395000 rows x 9 columns]"
            ]
          },
          "metadata": {
            "tags": []
          },
          "execution_count": 10
        }
      ]
    },
    {
      "cell_type": "code",
      "metadata": {
        "execution": {
          "iopub.execute_input": "2021-01-28T19:24:35.082231Z",
          "iopub.status.busy": "2021-01-28T19:24:35.081589Z",
          "iopub.status.idle": "2021-01-28T19:24:35.084051Z",
          "shell.execute_reply": "2021-01-28T19:24:35.084483Z"
        },
        "papermill": {
          "duration": 0.04187,
          "end_time": "2021-01-28T19:24:35.084667",
          "exception": false,
          "start_time": "2021-01-28T19:24:35.042797",
          "status": "completed"
        },
        "tags": [],
        "id": "eak_d07dkagb"
      },
      "source": [
        "##b.\tGet the summary"
      ],
      "execution_count": null,
      "outputs": []
    },
    {
      "cell_type": "code",
      "metadata": {
        "execution": {
          "iopub.execute_input": "2021-01-28T19:24:35.162334Z",
          "iopub.status.busy": "2021-01-28T19:24:35.161709Z",
          "iopub.status.idle": "2021-01-28T19:24:35.265628Z",
          "shell.execute_reply": "2021-01-28T19:24:35.266192Z"
        },
        "papermill": {
          "duration": 0.146934,
          "end_time": "2021-01-28T19:24:35.266365",
          "exception": false,
          "start_time": "2021-01-28T19:24:35.119431",
          "status": "completed"
        },
        "tags": [],
        "colab": {
          "base_uri": "https://localhost:8080/",
          "height": 297
        },
        "id": "eQrC7NhRkagc",
        "outputId": "70534c68-40df-402f-8192-306f1046bca5"
      },
      "source": [
        "dataset.describe()"
      ],
      "execution_count": null,
      "outputs": [
        {
          "output_type": "execute_result",
          "data": {
            "text/html": [
              "<div>\n",
              "<style scoped>\n",
              "    .dataframe tbody tr th:only-of-type {\n",
              "        vertical-align: middle;\n",
              "    }\n",
              "\n",
              "    .dataframe tbody tr th {\n",
              "        vertical-align: top;\n",
              "    }\n",
              "\n",
              "    .dataframe thead th {\n",
              "        text-align: right;\n",
              "    }\n",
              "</style>\n",
              "<table border=\"1\" class=\"dataframe\">\n",
              "  <thead>\n",
              "    <tr style=\"text-align: right;\">\n",
              "      <th></th>\n",
              "      <th>product_identifier</th>\n",
              "      <th>department_identifier</th>\n",
              "      <th>outlet</th>\n",
              "      <th>sales</th>\n",
              "      <th>week_id</th>\n",
              "      <th>sell_price</th>\n",
              "    </tr>\n",
              "  </thead>\n",
              "  <tbody>\n",
              "    <tr>\n",
              "      <th>count</th>\n",
              "      <td>395000.000000</td>\n",
              "      <td>395000.000000</td>\n",
              "      <td>395000.000000</td>\n",
              "      <td>395000.000000</td>\n",
              "      <td>395000.000000</td>\n",
              "      <td>395000.000000</td>\n",
              "    </tr>\n",
              "    <tr>\n",
              "      <th>mean</th>\n",
              "      <td>1509.960000</td>\n",
              "      <td>24.460000</td>\n",
              "      <td>211.200000</td>\n",
              "      <td>1.228919</td>\n",
              "      <td>105.070886</td>\n",
              "      <td>4.987644</td>\n",
              "    </tr>\n",
              "    <tr>\n",
              "      <th>std</th>\n",
              "      <td>809.799518</td>\n",
              "      <td>6.337863</td>\n",
              "      <td>91.161291</td>\n",
              "      <td>3.595266</td>\n",
              "      <td>32.578749</td>\n",
              "      <td>3.874444</td>\n",
              "    </tr>\n",
              "    <tr>\n",
              "      <th>min</th>\n",
              "      <td>74.000000</td>\n",
              "      <td>11.000000</td>\n",
              "      <td>111.000000</td>\n",
              "      <td>0.000000</td>\n",
              "      <td>49.000000</td>\n",
              "      <td>0.050000</td>\n",
              "    </tr>\n",
              "    <tr>\n",
              "      <th>25%</th>\n",
              "      <td>926.000000</td>\n",
              "      <td>21.000000</td>\n",
              "      <td>113.000000</td>\n",
              "      <td>0.000000</td>\n",
              "      <td>77.000000</td>\n",
              "      <td>2.680000</td>\n",
              "    </tr>\n",
              "    <tr>\n",
              "      <th>50%</th>\n",
              "      <td>1325.000000</td>\n",
              "      <td>22.000000</td>\n",
              "      <td>221.500000</td>\n",
              "      <td>0.000000</td>\n",
              "      <td>105.000000</td>\n",
              "      <td>3.980000</td>\n",
              "    </tr>\n",
              "    <tr>\n",
              "      <th>75%</th>\n",
              "      <td>1753.000000</td>\n",
              "      <td>31.000000</td>\n",
              "      <td>331.000000</td>\n",
              "      <td>1.000000</td>\n",
              "      <td>133.000000</td>\n",
              "      <td>6.480000</td>\n",
              "    </tr>\n",
              "    <tr>\n",
              "      <th>max</th>\n",
              "      <td>3021.000000</td>\n",
              "      <td>33.000000</td>\n",
              "      <td>333.000000</td>\n",
              "      <td>293.000000</td>\n",
              "      <td>161.000000</td>\n",
              "      <td>44.360000</td>\n",
              "    </tr>\n",
              "  </tbody>\n",
              "</table>\n",
              "</div>"
            ],
            "text/plain": [
              "       product_identifier  department_identifier  ...        week_id     sell_price\n",
              "count       395000.000000          395000.000000  ...  395000.000000  395000.000000\n",
              "mean          1509.960000              24.460000  ...     105.070886       4.987644\n",
              "std            809.799518               6.337863  ...      32.578749       3.874444\n",
              "min             74.000000              11.000000  ...      49.000000       0.050000\n",
              "25%            926.000000              21.000000  ...      77.000000       2.680000\n",
              "50%           1325.000000              22.000000  ...     105.000000       3.980000\n",
              "75%           1753.000000              31.000000  ...     133.000000       6.480000\n",
              "max           3021.000000              33.000000  ...     161.000000      44.360000\n",
              "\n",
              "[8 rows x 6 columns]"
            ]
          },
          "metadata": {
            "tags": []
          },
          "execution_count": 12
        }
      ]
    },
    {
      "cell_type": "code",
      "metadata": {
        "execution": {
          "iopub.execute_input": "2021-01-28T19:24:35.342517Z",
          "iopub.status.busy": "2021-01-28T19:24:35.341911Z",
          "iopub.status.idle": "2021-01-28T19:24:35.345365Z",
          "shell.execute_reply": "2021-01-28T19:24:35.345840Z"
        },
        "papermill": {
          "duration": 0.043963,
          "end_time": "2021-01-28T19:24:35.346019",
          "exception": false,
          "start_time": "2021-01-28T19:24:35.302056",
          "status": "completed"
        },
        "tags": [],
        "id": "JFWzf4sIkagc"
      },
      "source": [
        "##c.\tPrint the first 5 rows and last 5 rows."
      ],
      "execution_count": null,
      "outputs": []
    },
    {
      "cell_type": "code",
      "metadata": {
        "execution": {
          "iopub.execute_input": "2021-01-28T19:24:35.432063Z",
          "iopub.status.busy": "2021-01-28T19:24:35.426681Z",
          "iopub.status.idle": "2021-01-28T19:24:35.437887Z",
          "shell.execute_reply": "2021-01-28T19:24:35.437110Z"
        },
        "papermill": {
          "duration": 0.056004,
          "end_time": "2021-01-28T19:24:35.438028",
          "exception": false,
          "start_time": "2021-01-28T19:24:35.382024",
          "status": "completed"
        },
        "tags": [],
        "colab": {
          "base_uri": "https://localhost:8080/",
          "height": 204
        },
        "id": "0qSvb5P2kagc",
        "outputId": "84f9a4f1-fe53-40b3-db57-0cff48ce4bfb"
      },
      "source": [
        "dataset.head(5)"
      ],
      "execution_count": null,
      "outputs": [
        {
          "output_type": "execute_result",
          "data": {
            "text/html": [
              "<div>\n",
              "<style scoped>\n",
              "    .dataframe tbody tr th:only-of-type {\n",
              "        vertical-align: middle;\n",
              "    }\n",
              "\n",
              "    .dataframe tbody tr th {\n",
              "        vertical-align: top;\n",
              "    }\n",
              "\n",
              "    .dataframe thead th {\n",
              "        text-align: right;\n",
              "    }\n",
              "</style>\n",
              "<table border=\"1\" class=\"dataframe\">\n",
              "  <thead>\n",
              "    <tr style=\"text-align: right;\">\n",
              "      <th></th>\n",
              "      <th>date</th>\n",
              "      <th>product_identifier</th>\n",
              "      <th>department_identifier</th>\n",
              "      <th>category_of_product</th>\n",
              "      <th>outlet</th>\n",
              "      <th>state</th>\n",
              "      <th>sales</th>\n",
              "      <th>week_id</th>\n",
              "      <th>sell_price</th>\n",
              "    </tr>\n",
              "  </thead>\n",
              "  <tbody>\n",
              "    <tr>\n",
              "      <th>0</th>\n",
              "      <td>2012-01-01</td>\n",
              "      <td>74</td>\n",
              "      <td>11</td>\n",
              "      <td>others</td>\n",
              "      <td>111</td>\n",
              "      <td>Maharashtra</td>\n",
              "      <td>0</td>\n",
              "      <td>49</td>\n",
              "      <td>2.94</td>\n",
              "    </tr>\n",
              "    <tr>\n",
              "      <th>1</th>\n",
              "      <td>2012-01-01</td>\n",
              "      <td>337</td>\n",
              "      <td>11</td>\n",
              "      <td>others</td>\n",
              "      <td>111</td>\n",
              "      <td>Maharashtra</td>\n",
              "      <td>1</td>\n",
              "      <td>49</td>\n",
              "      <td>7.44</td>\n",
              "    </tr>\n",
              "    <tr>\n",
              "      <th>2</th>\n",
              "      <td>2012-01-01</td>\n",
              "      <td>423</td>\n",
              "      <td>12</td>\n",
              "      <td>others</td>\n",
              "      <td>111</td>\n",
              "      <td>Maharashtra</td>\n",
              "      <td>0</td>\n",
              "      <td>49</td>\n",
              "      <td>0.97</td>\n",
              "    </tr>\n",
              "    <tr>\n",
              "      <th>3</th>\n",
              "      <td>2012-01-01</td>\n",
              "      <td>432</td>\n",
              "      <td>12</td>\n",
              "      <td>others</td>\n",
              "      <td>111</td>\n",
              "      <td>Maharashtra</td>\n",
              "      <td>0</td>\n",
              "      <td>49</td>\n",
              "      <td>4.97</td>\n",
              "    </tr>\n",
              "    <tr>\n",
              "      <th>4</th>\n",
              "      <td>2012-01-01</td>\n",
              "      <td>581</td>\n",
              "      <td>21</td>\n",
              "      <td>fast_moving_consumer_goods</td>\n",
              "      <td>111</td>\n",
              "      <td>Maharashtra</td>\n",
              "      <td>0</td>\n",
              "      <td>49</td>\n",
              "      <td>4.88</td>\n",
              "    </tr>\n",
              "  </tbody>\n",
              "</table>\n",
              "</div>"
            ],
            "text/plain": [
              "         date  product_identifier  ...  week_id sell_price\n",
              "0  2012-01-01                  74  ...       49       2.94\n",
              "1  2012-01-01                 337  ...       49       7.44\n",
              "2  2012-01-01                 423  ...       49       0.97\n",
              "3  2012-01-01                 432  ...       49       4.97\n",
              "4  2012-01-01                 581  ...       49       4.88\n",
              "\n",
              "[5 rows x 9 columns]"
            ]
          },
          "metadata": {
            "tags": []
          },
          "execution_count": 13
        }
      ]
    },
    {
      "cell_type": "code",
      "metadata": {
        "execution": {
          "iopub.execute_input": "2021-01-28T19:24:35.518363Z",
          "iopub.status.busy": "2021-01-28T19:24:35.517560Z",
          "iopub.status.idle": "2021-01-28T19:24:35.527259Z",
          "shell.execute_reply": "2021-01-28T19:24:35.527796Z"
        },
        "papermill": {
          "duration": 0.053672,
          "end_time": "2021-01-28T19:24:35.527977",
          "exception": false,
          "start_time": "2021-01-28T19:24:35.474305",
          "status": "completed"
        },
        "tags": [],
        "id": "oNCwcbfokagc",
        "outputId": "a3574252-97f8-41e9-efd7-be15d28c5fd2"
      },
      "source": [
        "##c.\tPrint the first 5 rows and last 5 rows.\n",
        "dataset.tail(5)"
      ],
      "execution_count": null,
      "outputs": [
        {
          "output_type": "execute_result",
          "data": {
            "text/html": [
              "<div>\n",
              "<style scoped>\n",
              "    .dataframe tbody tr th:only-of-type {\n",
              "        vertical-align: middle;\n",
              "    }\n",
              "\n",
              "    .dataframe tbody tr th {\n",
              "        vertical-align: top;\n",
              "    }\n",
              "\n",
              "    .dataframe thead th {\n",
              "        text-align: right;\n",
              "    }\n",
              "</style>\n",
              "<table border=\"1\" class=\"dataframe\">\n",
              "  <thead>\n",
              "    <tr style=\"text-align: right;\">\n",
              "      <th></th>\n",
              "      <th>date</th>\n",
              "      <th>product_identifier</th>\n",
              "      <th>department_identifier</th>\n",
              "      <th>category_of_product</th>\n",
              "      <th>outlet</th>\n",
              "      <th>state</th>\n",
              "      <th>sales</th>\n",
              "      <th>week_id</th>\n",
              "      <th>sell_price</th>\n",
              "    </tr>\n",
              "  </thead>\n",
              "  <tbody>\n",
              "    <tr>\n",
              "      <th>394995</th>\n",
              "      <td>2014-02-28</td>\n",
              "      <td>2932</td>\n",
              "      <td>33</td>\n",
              "      <td>drinks_and_food</td>\n",
              "      <td>333</td>\n",
              "      <td>Kerala</td>\n",
              "      <td>2</td>\n",
              "      <td>161</td>\n",
              "      <td>2.78</td>\n",
              "    </tr>\n",
              "    <tr>\n",
              "      <th>394996</th>\n",
              "      <td>2014-02-28</td>\n",
              "      <td>2935</td>\n",
              "      <td>33</td>\n",
              "      <td>drinks_and_food</td>\n",
              "      <td>333</td>\n",
              "      <td>Kerala</td>\n",
              "      <td>8</td>\n",
              "      <td>161</td>\n",
              "      <td>0.20</td>\n",
              "    </tr>\n",
              "    <tr>\n",
              "      <th>394997</th>\n",
              "      <td>2014-02-28</td>\n",
              "      <td>3004</td>\n",
              "      <td>33</td>\n",
              "      <td>drinks_and_food</td>\n",
              "      <td>333</td>\n",
              "      <td>Kerala</td>\n",
              "      <td>0</td>\n",
              "      <td>161</td>\n",
              "      <td>2.50</td>\n",
              "    </tr>\n",
              "    <tr>\n",
              "      <th>394998</th>\n",
              "      <td>2014-02-28</td>\n",
              "      <td>3008</td>\n",
              "      <td>33</td>\n",
              "      <td>drinks_and_food</td>\n",
              "      <td>333</td>\n",
              "      <td>Kerala</td>\n",
              "      <td>0</td>\n",
              "      <td>161</td>\n",
              "      <td>1.98</td>\n",
              "    </tr>\n",
              "    <tr>\n",
              "      <th>394999</th>\n",
              "      <td>2014-02-28</td>\n",
              "      <td>3021</td>\n",
              "      <td>33</td>\n",
              "      <td>drinks_and_food</td>\n",
              "      <td>333</td>\n",
              "      <td>Kerala</td>\n",
              "      <td>0</td>\n",
              "      <td>161</td>\n",
              "      <td>2.08</td>\n",
              "    </tr>\n",
              "  </tbody>\n",
              "</table>\n",
              "</div>"
            ],
            "text/plain": [
              "              date  product_identifier  department_identifier  \\\n",
              "394995  2014-02-28                2932                     33   \n",
              "394996  2014-02-28                2935                     33   \n",
              "394997  2014-02-28                3004                     33   \n",
              "394998  2014-02-28                3008                     33   \n",
              "394999  2014-02-28                3021                     33   \n",
              "\n",
              "       category_of_product  outlet   state  sales  week_id  sell_price  \n",
              "394995     drinks_and_food     333  Kerala      2      161        2.78  \n",
              "394996     drinks_and_food     333  Kerala      8      161        0.20  \n",
              "394997     drinks_and_food     333  Kerala      0      161        2.50  \n",
              "394998     drinks_and_food     333  Kerala      0      161        1.98  \n",
              "394999     drinks_and_food     333  Kerala      0      161        2.08  "
            ]
          },
          "metadata": {
            "tags": []
          },
          "execution_count": 16
        }
      ]
    },
    {
      "cell_type": "code",
      "metadata": {
        "execution": {
          "iopub.execute_input": "2021-01-28T19:24:35.607913Z",
          "iopub.status.busy": "2021-01-28T19:24:35.606278Z",
          "iopub.status.idle": "2021-01-28T19:24:35.610602Z",
          "shell.execute_reply": "2021-01-28T19:24:35.611242Z"
        },
        "papermill": {
          "duration": 0.046537,
          "end_time": "2021-01-28T19:24:35.611436",
          "exception": false,
          "start_time": "2021-01-28T19:24:35.564899",
          "status": "completed"
        },
        "tags": [],
        "id": "7F2spyBdkagd"
      },
      "source": [
        "##5.\tVerify if there are any null values in each of the columns. (don’t impute now)."
      ],
      "execution_count": null,
      "outputs": []
    },
    {
      "cell_type": "code",
      "metadata": {
        "execution": {
          "iopub.execute_input": "2021-01-28T19:24:35.690048Z",
          "iopub.status.busy": "2021-01-28T19:24:35.689064Z",
          "iopub.status.idle": "2021-01-28T19:24:35.820168Z",
          "shell.execute_reply": "2021-01-28T19:24:35.820617Z"
        },
        "papermill": {
          "duration": 0.171871,
          "end_time": "2021-01-28T19:24:35.820843",
          "exception": false,
          "start_time": "2021-01-28T19:24:35.648972",
          "status": "completed"
        },
        "tags": [],
        "id": "9DrbKF1bkagd",
        "outputId": "c9ecdcae-33b5-4b2c-d5e6-5dcdda1fd112"
      },
      "source": [
        "dataset.isnull().sum()"
      ],
      "execution_count": null,
      "outputs": [
        {
          "output_type": "execute_result",
          "data": {
            "text/plain": [
              "date                     0\n",
              "product_identifier       0\n",
              "department_identifier    0\n",
              "category_of_product      0\n",
              "outlet                   0\n",
              "state                    0\n",
              "sales                    0\n",
              "week_id                  0\n",
              "sell_price               0\n",
              "dtype: int64"
            ]
          },
          "metadata": {
            "tags": []
          },
          "execution_count": 18
        }
      ]
    },
    {
      "cell_type": "code",
      "metadata": {
        "execution": {
          "iopub.execute_input": "2021-01-28T19:24:35.903707Z",
          "iopub.status.busy": "2021-01-28T19:24:35.902639Z",
          "iopub.status.idle": "2021-01-28T19:24:35.906714Z",
          "shell.execute_reply": "2021-01-28T19:24:35.907165Z"
        },
        "papermill": {
          "duration": 0.048786,
          "end_time": "2021-01-28T19:24:35.907481",
          "exception": false,
          "start_time": "2021-01-28T19:24:35.858695",
          "status": "completed"
        },
        "tags": [],
        "id": "1nCzTBi9kagd",
        "outputId": "12ce8eb5-3593-4c3e-b497-1008085adaa2"
      },
      "source": [
        "##d.\tExplore the data types of each column.\n",
        "dataset.dtypes"
      ],
      "execution_count": null,
      "outputs": [
        {
          "output_type": "execute_result",
          "data": {
            "text/plain": [
              "date                      object\n",
              "product_identifier         int64\n",
              "department_identifier      int64\n",
              "category_of_product       object\n",
              "outlet                     int64\n",
              "state                     object\n",
              "sales                      int64\n",
              "week_id                    int64\n",
              "sell_price               float64\n",
              "dtype: object"
            ]
          },
          "metadata": {
            "tags": []
          },
          "execution_count": 19
        }
      ]
    },
    {
      "cell_type": "code",
      "metadata": {
        "execution": {
          "iopub.execute_input": "2021-01-28T19:24:35.991346Z",
          "iopub.status.busy": "2021-01-28T19:24:35.990544Z",
          "iopub.status.idle": "2021-01-28T19:24:36.079599Z",
          "shell.execute_reply": "2021-01-28T19:24:36.080146Z"
        },
        "papermill": {
          "duration": 0.133641,
          "end_time": "2021-01-28T19:24:36.080330",
          "exception": false,
          "start_time": "2021-01-28T19:24:35.946689",
          "status": "completed"
        },
        "tags": [],
        "id": "JfQHL0pfkage"
      },
      "source": [
        "##converting as category\n",
        "col = ['category_of_product', 'state']\n",
        "dataset[col] = dataset[col].astype('category')"
      ],
      "execution_count": null,
      "outputs": []
    },
    {
      "cell_type": "code",
      "metadata": {
        "execution": {
          "iopub.execute_input": "2021-01-28T19:24:36.164373Z",
          "iopub.status.busy": "2021-01-28T19:24:36.163378Z",
          "iopub.status.idle": "2021-01-28T19:24:36.167881Z",
          "shell.execute_reply": "2021-01-28T19:24:36.168366Z"
        },
        "papermill": {
          "duration": 0.049899,
          "end_time": "2021-01-28T19:24:36.168537",
          "exception": false,
          "start_time": "2021-01-28T19:24:36.118638",
          "status": "completed"
        },
        "tags": [],
        "colab": {
          "base_uri": "https://localhost:8080/"
        },
        "id": "-qnJW2RZkage",
        "outputId": "8106dde8-78cc-4454-a95e-70cc30e9168b"
      },
      "source": [
        "##e.\tUnderstand if all the columns are in appropriate datatypes or not.\n",
        "dataset.dtypes"
      ],
      "execution_count": null,
      "outputs": [
        {
          "output_type": "execute_result",
          "data": {
            "text/plain": [
              "date                       object\n",
              "product_identifier          int64\n",
              "department_identifier       int64\n",
              "category_of_product      category\n",
              "outlet                      int64\n",
              "state                    category\n",
              "sales                       int64\n",
              "week_id                     int64\n",
              "sell_price                float64\n",
              "dtype: object"
            ]
          },
          "metadata": {
            "tags": []
          },
          "execution_count": 15
        }
      ]
    },
    {
      "cell_type": "code",
      "metadata": {
        "execution": {
          "iopub.execute_input": "2021-01-28T19:24:36.252472Z",
          "iopub.status.busy": "2021-01-28T19:24:36.251587Z",
          "iopub.status.idle": "2021-01-28T19:24:36.254752Z",
          "shell.execute_reply": "2021-01-28T19:24:36.254102Z"
        },
        "papermill": {
          "duration": 0.04787,
          "end_time": "2021-01-28T19:24:36.254898",
          "exception": false,
          "start_time": "2021-01-28T19:24:36.207028",
          "status": "completed"
        },
        "tags": [],
        "id": "8HAvs4Nxkage"
      },
      "source": [
        "##check for insights using scatterplot\n",
        "def scatter(dataset, column):\n",
        "    plt.figure()\n",
        "    plt.scatter(dataset[column] , dataset['sales'])\n",
        "    plt.ylabel('sales')\n",
        "    plt.xlabel(column)"
      ],
      "execution_count": null,
      "outputs": []
    },
    {
      "cell_type": "code",
      "metadata": {
        "execution": {
          "iopub.execute_input": "2021-01-28T19:24:36.355529Z",
          "iopub.status.busy": "2021-01-28T19:24:36.350009Z",
          "iopub.status.idle": "2021-01-28T19:24:42.935794Z",
          "shell.execute_reply": "2021-01-28T19:24:42.935096Z"
        },
        "papermill": {
          "duration": 6.642485,
          "end_time": "2021-01-28T19:24:42.935957",
          "exception": false,
          "start_time": "2021-01-28T19:24:36.293472",
          "status": "completed"
        },
        "tags": [],
        "colab": {
          "base_uri": "https://localhost:8080/",
          "height": 1000
        },
        "id": "3UO4DoDfkagf",
        "outputId": "827077f3-3d0b-49b5-c079-e4ca9592a0cf"
      },
      "source": [
        "scatter(dataset, 'product_identifier')\n",
        "scatter(dataset, 'department_identifier')\n",
        "scatter(dataset, 'category_of_product')\n",
        "scatter(dataset, 'outlet')\n",
        "scatter(dataset, 'state')\n",
        "scatter(dataset, 'week_id')\n",
        "scatter(dataset, 'sell_price')"
      ],
      "execution_count": null,
      "outputs": [
        {
          "output_type": "display_data",
          "data": {
            "image/png": "[encoded data removed]",
            "text/plain": [
              "<Figure size 432x288 with 1 Axes>"
            ]
          },
          "metadata": {
            "tags": []
          }
        },
        {
          "output_type": "display_data",
          "data": {
            "image/png": "[encoded data removed]",
            "text/plain": [
              "<Figure size 432x288 with 1 Axes>"
            ]
          },
          "metadata": {
            "tags": []
          }
        },
        {
          "output_type": "display_data",
          "data": {
            "image/png": "[encoded data removed]",
            "text/plain": [
              "<Figure size 432x288 with 1 Axes>"
            ]
          },
          "metadata": {
            "tags": []
          }
        },
        {
          "output_type": "display_data",
          "data": {
            "image/png": "[encoded data removed]",
            "text/plain": [
              "<Figure size 432x288 with 1 Axes>"
            ]
          },
          "metadata": {
            "tags": []
          }
        },
        {
          "output_type": "display_data",
          "data": {
            "image/png": "[encoded data removed]",
            "text/plain": [
              "<Figure size 432x288 with 1 Axes>"
            ]
          },
          "metadata": {
            "tags": []
          }
        },
        {
          "output_type": "display_data",
          "data": {
            "image/png": "[encoded data removed]",
            "text/plain": [
              "<Figure size 432x288 with 1 Axes>"
            ]
          },
          "metadata": {
            "tags": []
          }
        },
        {
          "output_type": "display_data",
          "data": {
            "image/png": "[encoded data removed]",
            "text/plain": [
              "<Figure size 432x288 with 1 Axes>"
            ]
          },
          "metadata": {
            "tags": []
          }
        }
      ]
    },
    {
      "cell_type": "code",
      "metadata": {
        "execution": {
          "iopub.execute_input": "2021-01-28T19:24:43.038218Z",
          "iopub.status.busy": "2021-01-28T19:24:43.037061Z",
          "iopub.status.idle": "2021-01-28T19:24:43.419887Z",
          "shell.execute_reply": "2021-01-28T19:24:43.419146Z"
        },
        "papermill": {
          "duration": 0.437893,
          "end_time": "2021-01-28T19:24:43.420049",
          "exception": false,
          "start_time": "2021-01-28T19:24:42.982156",
          "status": "completed"
        },
        "tags": [],
        "colab": {
          "base_uri": "https://localhost:8080/",
          "height": 833
        },
        "id": "OgdBNIHikagf",
        "outputId": "981ff294-39d6-4de6-c1c3-666eb40d48bb"
      },
      "source": [
        "fig = plt.figure(figsize=(18, 14))\n",
        "corr = dataset.corr()\n",
        "c = plt.pcolor(corr)\n",
        "plt.yticks(np.arange(0.5, len(corr.index), 1), corr.index)\n",
        "plt.xticks(np.arange(0.5, len(corr.columns), 1), corr.columns)\n",
        "fig.colorbar(c)"
      ],
      "execution_count": null,
      "outputs": [
        {
          "output_type": "execute_result",
          "data": {
            "text/plain": [
              "<matplotlib.colorbar.Colorbar at 0x7fd21eca4f98>"
            ]
          },
          "metadata": {
            "tags": []
          },
          "execution_count": 18
        },
        {
          "output_type": "display_data",
          "data": {
            "image/png": "[encoded data removed]",
            "text/plain": [
              "<Figure size 1296x1008 with 2 Axes>"
            ]
          },
          "metadata": {
            "tags": []
          }
        }
      ]
    },
    {
      "cell_type": "code",
      "metadata": {
        "execution": {
          "iopub.execute_input": "2021-01-28T19:24:43.559880Z",
          "iopub.status.busy": "2021-01-28T19:24:43.559108Z",
          "iopub.status.idle": "2021-01-28T19:25:38.296749Z",
          "shell.execute_reply": "2021-01-28T19:25:38.297245Z"
        },
        "papermill": {
          "duration": 54.829754,
          "end_time": "2021-01-28T19:25:38.297436",
          "exception": false,
          "start_time": "2021-01-28T19:24:43.467682",
          "status": "completed"
        },
        "tags": [],
        "colab": {
          "base_uri": "https://localhost:8080/",
          "height": 1000
        },
        "id": "Upk10Sv7kagf",
        "outputId": "112dee23-f119-404c-907c-d70dc163c3dc"
      },
      "source": [
        "#vars() function in Python,vars() method takes only one parameter and that too is optional,\n",
        "#It takes an object as a parameter which may be can a module, a class, an instance, or any object having __dict__ attribute.\n",
        "sns.pairplot(dataset, vars=['product_identifier','department_identifier','category_of_product','outlet','state','sales'])"
      ],
      "execution_count": null,
      "outputs": [
        {
          "output_type": "execute_result",
          "data": {
            "text/plain": [
              "<seaborn.axisgrid.PairGrid at 0x7fd21ec5a908>"
            ]
          },
          "metadata": {
            "tags": []
          },
          "execution_count": 19
        },
        {
          "output_type": "display_data",
          "data": {
            "image/png": "[encoded data removed]",
            "text/plain": [
              "<Figure size 1080x1080 with 42 Axes>"
            ]
          },
          "metadata": {
            "tags": []
          }
        }
      ]
    },
    {
      "cell_type": "code",
      "metadata": {
        "execution": {
          "iopub.execute_input": "2021-01-28T19:25:38.406526Z",
          "iopub.status.busy": "2021-01-28T19:25:38.405881Z",
          "iopub.status.idle": "2021-01-28T19:25:38.677511Z",
          "shell.execute_reply": "2021-01-28T19:25:38.676960Z"
        },
        "papermill": {
          "duration": 0.328437,
          "end_time": "2021-01-28T19:25:38.677670",
          "exception": false,
          "start_time": "2021-01-28T19:25:38.349233",
          "status": "completed"
        },
        "tags": [],
        "id": "ICUu4wr9kagg",
        "outputId": "91de6b26-53cf-41c7-c199-831678a68940"
      },
      "source": [
        "for name, group in dataset.groupby([\"outlet\", \"department_identifier\"]):\n",
        "    plt.title(name)\n",
        "    plt.scatter(range(len(group)), group[\"sales\"])\n",
        "    plt.show()\n",
        "    break"
      ],
      "execution_count": null,
      "outputs": [
        {
          "output_type": "display_data",
          "data": {
            "image/png": "[encoded data removed]",
            "text/plain": [
              "<Figure size 432x288 with 1 Axes>"
            ]
          },
          "metadata": {
            "tags": []
          }
        }
      ]
    },
    {
      "cell_type": "code",
      "metadata": {
        "execution": {
          "iopub.execute_input": "2021-01-28T19:25:38.789708Z",
          "iopub.status.busy": "2021-01-28T19:25:38.788603Z",
          "iopub.status.idle": "2021-01-28T19:25:38.949401Z",
          "shell.execute_reply": "2021-01-28T19:25:38.948795Z"
        },
        "papermill": {
          "duration": 0.218607,
          "end_time": "2021-01-28T19:25:38.949537",
          "exception": false,
          "start_time": "2021-01-28T19:25:38.730930",
          "status": "completed"
        },
        "tags": [],
        "colab": {
          "base_uri": "https://localhost:8080/",
          "height": 419
        },
        "id": "E1ZvJ21ekagg",
        "outputId": "a56bb164-5939-4606-adea-af099e9513f2"
      },
      "source": [
        "##use label encoder-LabelEncoder encode labels with a value between 0 and n_classes-1 where n is the number of distinct labels\n",
        "from sklearn.preprocessing import OneHotEncoder\n",
        "from sklearn.preprocessing import LabelEncoder\n",
        "dataset['state_encoded'] = LabelEncoder().fit_transform(dataset['state'])\n",
        "dataset[['state', 'state_encoded']]"
      ],
      "execution_count": null,
      "outputs": [
        {
          "output_type": "execute_result",
          "data": {
            "text/html": [
              "<div>\n",
              "<style scoped>\n",
              "    .dataframe tbody tr th:only-of-type {\n",
              "        vertical-align: middle;\n",
              "    }\n",
              "\n",
              "    .dataframe tbody tr th {\n",
              "        vertical-align: top;\n",
              "    }\n",
              "\n",
              "    .dataframe thead th {\n",
              "        text-align: right;\n",
              "    }\n",
              "</style>\n",
              "<table border=\"1\" class=\"dataframe\">\n",
              "  <thead>\n",
              "    <tr style=\"text-align: right;\">\n",
              "      <th></th>\n",
              "      <th>state</th>\n",
              "      <th>state_encoded</th>\n",
              "    </tr>\n",
              "  </thead>\n",
              "  <tbody>\n",
              "    <tr>\n",
              "      <th>0</th>\n",
              "      <td>Maharashtra</td>\n",
              "      <td>1</td>\n",
              "    </tr>\n",
              "    <tr>\n",
              "      <th>1</th>\n",
              "      <td>Maharashtra</td>\n",
              "      <td>1</td>\n",
              "    </tr>\n",
              "    <tr>\n",
              "      <th>2</th>\n",
              "      <td>Maharashtra</td>\n",
              "      <td>1</td>\n",
              "    </tr>\n",
              "    <tr>\n",
              "      <th>3</th>\n",
              "      <td>Maharashtra</td>\n",
              "      <td>1</td>\n",
              "    </tr>\n",
              "    <tr>\n",
              "      <th>4</th>\n",
              "      <td>Maharashtra</td>\n",
              "      <td>1</td>\n",
              "    </tr>\n",
              "    <tr>\n",
              "      <th>...</th>\n",
              "      <td>...</td>\n",
              "      <td>...</td>\n",
              "    </tr>\n",
              "    <tr>\n",
              "      <th>394995</th>\n",
              "      <td>Kerala</td>\n",
              "      <td>0</td>\n",
              "    </tr>\n",
              "    <tr>\n",
              "      <th>394996</th>\n",
              "      <td>Kerala</td>\n",
              "      <td>0</td>\n",
              "    </tr>\n",
              "    <tr>\n",
              "      <th>394997</th>\n",
              "      <td>Kerala</td>\n",
              "      <td>0</td>\n",
              "    </tr>\n",
              "    <tr>\n",
              "      <th>394998</th>\n",
              "      <td>Kerala</td>\n",
              "      <td>0</td>\n",
              "    </tr>\n",
              "    <tr>\n",
              "      <th>394999</th>\n",
              "      <td>Kerala</td>\n",
              "      <td>0</td>\n",
              "    </tr>\n",
              "  </tbody>\n",
              "</table>\n",
              "<p>395000 rows × 2 columns</p>\n",
              "</div>"
            ],
            "text/plain": [
              "              state  state_encoded\n",
              "0       Maharashtra              1\n",
              "1       Maharashtra              1\n",
              "2       Maharashtra              1\n",
              "3       Maharashtra              1\n",
              "4       Maharashtra              1\n",
              "...             ...            ...\n",
              "394995       Kerala              0\n",
              "394996       Kerala              0\n",
              "394997       Kerala              0\n",
              "394998       Kerala              0\n",
              "394999       Kerala              0\n",
              "\n",
              "[395000 rows x 2 columns]"
            ]
          },
          "metadata": {
            "tags": []
          },
          "execution_count": 20
        }
      ]
    },
    {
      "cell_type": "code",
      "metadata": {
        "execution": {
          "iopub.execute_input": "2021-01-28T19:25:39.061316Z",
          "iopub.status.busy": "2021-01-28T19:25:39.060460Z",
          "iopub.status.idle": "2021-01-28T19:25:39.064442Z",
          "shell.execute_reply": "2021-01-28T19:25:39.063822Z"
        },
        "papermill": {
          "duration": 0.063062,
          "end_time": "2021-01-28T19:25:39.064581",
          "exception": false,
          "start_time": "2021-01-28T19:25:39.001519",
          "status": "completed"
        },
        "tags": [],
        "id": "Z0NVEjvGkagh"
      },
      "source": [
        "#### Maharastra=1; Kerala = 0; Telangana=2"
      ],
      "execution_count": null,
      "outputs": []
    },
    {
      "cell_type": "code",
      "metadata": {
        "execution": {
          "iopub.execute_input": "2021-01-28T19:25:39.176067Z",
          "iopub.status.busy": "2021-01-28T19:25:39.175065Z",
          "iopub.status.idle": "2021-01-28T19:25:39.340949Z",
          "shell.execute_reply": "2021-01-28T19:25:39.340282Z"
        },
        "papermill": {
          "duration": 0.223957,
          "end_time": "2021-01-28T19:25:39.341095",
          "exception": false,
          "start_time": "2021-01-28T19:25:39.117138",
          "status": "completed"
        },
        "tags": [],
        "colab": {
          "base_uri": "https://localhost:8080/",
          "height": 419
        },
        "id": "9shNpvx3kagh",
        "outputId": "ea0da54d-a44e-4088-8a91-e00da2fa64e1"
      },
      "source": [
        "dataset['cat_prod_encoded'] = LabelEncoder().fit_transform(dataset['category_of_product'])\n",
        "dataset[['category_of_product', 'cat_prod_encoded']]"
      ],
      "execution_count": null,
      "outputs": [
        {
          "output_type": "execute_result",
          "data": {
            "text/html": [
              "<div>\n",
              "<style scoped>\n",
              "    .dataframe tbody tr th:only-of-type {\n",
              "        vertical-align: middle;\n",
              "    }\n",
              "\n",
              "    .dataframe tbody tr th {\n",
              "        vertical-align: top;\n",
              "    }\n",
              "\n",
              "    .dataframe thead th {\n",
              "        text-align: right;\n",
              "    }\n",
              "</style>\n",
              "<table border=\"1\" class=\"dataframe\">\n",
              "  <thead>\n",
              "    <tr style=\"text-align: right;\">\n",
              "      <th></th>\n",
              "      <th>category_of_product</th>\n",
              "      <th>cat_prod_encoded</th>\n",
              "    </tr>\n",
              "  </thead>\n",
              "  <tbody>\n",
              "    <tr>\n",
              "      <th>0</th>\n",
              "      <td>others</td>\n",
              "      <td>2</td>\n",
              "    </tr>\n",
              "    <tr>\n",
              "      <th>1</th>\n",
              "      <td>others</td>\n",
              "      <td>2</td>\n",
              "    </tr>\n",
              "    <tr>\n",
              "      <th>2</th>\n",
              "      <td>others</td>\n",
              "      <td>2</td>\n",
              "    </tr>\n",
              "    <tr>\n",
              "      <th>3</th>\n",
              "      <td>others</td>\n",
              "      <td>2</td>\n",
              "    </tr>\n",
              "    <tr>\n",
              "      <th>4</th>\n",
              "      <td>fast_moving_consumer_goods</td>\n",
              "      <td>1</td>\n",
              "    </tr>\n",
              "    <tr>\n",
              "      <th>...</th>\n",
              "      <td>...</td>\n",
              "      <td>...</td>\n",
              "    </tr>\n",
              "    <tr>\n",
              "      <th>394995</th>\n",
              "      <td>drinks_and_food</td>\n",
              "      <td>0</td>\n",
              "    </tr>\n",
              "    <tr>\n",
              "      <th>394996</th>\n",
              "      <td>drinks_and_food</td>\n",
              "      <td>0</td>\n",
              "    </tr>\n",
              "    <tr>\n",
              "      <th>394997</th>\n",
              "      <td>drinks_and_food</td>\n",
              "      <td>0</td>\n",
              "    </tr>\n",
              "    <tr>\n",
              "      <th>394998</th>\n",
              "      <td>drinks_and_food</td>\n",
              "      <td>0</td>\n",
              "    </tr>\n",
              "    <tr>\n",
              "      <th>394999</th>\n",
              "      <td>drinks_and_food</td>\n",
              "      <td>0</td>\n",
              "    </tr>\n",
              "  </tbody>\n",
              "</table>\n",
              "<p>395000 rows × 2 columns</p>\n",
              "</div>"
            ],
            "text/plain": [
              "               category_of_product  cat_prod_encoded\n",
              "0                           others                 2\n",
              "1                           others                 2\n",
              "2                           others                 2\n",
              "3                           others                 2\n",
              "4       fast_moving_consumer_goods                 1\n",
              "...                            ...               ...\n",
              "394995             drinks_and_food                 0\n",
              "394996             drinks_and_food                 0\n",
              "394997             drinks_and_food                 0\n",
              "394998             drinks_and_food                 0\n",
              "394999             drinks_and_food                 0\n",
              "\n",
              "[395000 rows x 2 columns]"
            ]
          },
          "metadata": {
            "tags": []
          },
          "execution_count": 21
        }
      ]
    },
    {
      "cell_type": "code",
      "metadata": {
        "execution": {
          "iopub.execute_input": "2021-01-28T19:25:39.452130Z",
          "iopub.status.busy": "2021-01-28T19:25:39.451098Z",
          "iopub.status.idle": "2021-01-28T19:25:39.454195Z",
          "shell.execute_reply": "2021-01-28T19:25:39.454728Z"
        },
        "papermill": {
          "duration": 0.060715,
          "end_time": "2021-01-28T19:25:39.454915",
          "exception": false,
          "start_time": "2021-01-28T19:25:39.394200",
          "status": "completed"
        },
        "tags": [],
        "id": "9LOhaEjKkagh"
      },
      "source": [
        "#### drinks_and_food=0; fast_moving_consumer_goods=1; others=2"
      ],
      "execution_count": null,
      "outputs": []
    },
    {
      "cell_type": "code",
      "metadata": {
        "execution": {
          "iopub.execute_input": "2021-01-28T19:25:39.591928Z",
          "iopub.status.busy": "2021-01-28T19:25:39.591230Z",
          "iopub.status.idle": "2021-01-28T19:25:39.717447Z",
          "shell.execute_reply": "2021-01-28T19:25:39.716742Z"
        },
        "papermill": {
          "duration": 0.209181,
          "end_time": "2021-01-28T19:25:39.717587",
          "exception": false,
          "start_time": "2021-01-28T19:25:39.508406",
          "status": "completed"
        },
        "tags": [],
        "colab": {
          "base_uri": "https://localhost:8080/",
          "height": 419
        },
        "id": "v35Twevnkagh",
        "outputId": "920819b9-15e0-4863-8f1b-0d6e4279a8ee"
      },
      "source": [
        "dataset['Month'] = pd.to_datetime(dataset['date']).dt.month\n",
        "dataset = dataset.drop(columns=[\"date\",\"week_id\",\"state\",\"category_of_product\"])\n",
        "dataset"
      ],
      "execution_count": null,
      "outputs": [
        {
          "output_type": "execute_result",
          "data": {
            "text/html": [
              "<div>\n",
              "<style scoped>\n",
              "    .dataframe tbody tr th:only-of-type {\n",
              "        vertical-align: middle;\n",
              "    }\n",
              "\n",
              "    .dataframe tbody tr th {\n",
              "        vertical-align: top;\n",
              "    }\n",
              "\n",
              "    .dataframe thead th {\n",
              "        text-align: right;\n",
              "    }\n",
              "</style>\n",
              "<table border=\"1\" class=\"dataframe\">\n",
              "  <thead>\n",
              "    <tr style=\"text-align: right;\">\n",
              "      <th></th>\n",
              "      <th>product_identifier</th>\n",
              "      <th>department_identifier</th>\n",
              "      <th>outlet</th>\n",
              "      <th>sales</th>\n",
              "      <th>sell_price</th>\n",
              "      <th>state_encoded</th>\n",
              "      <th>cat_prod_encoded</th>\n",
              "      <th>Month</th>\n",
              "    </tr>\n",
              "  </thead>\n",
              "  <tbody>\n",
              "    <tr>\n",
              "      <th>0</th>\n",
              "      <td>74</td>\n",
              "      <td>11</td>\n",
              "      <td>111</td>\n",
              "      <td>0</td>\n",
              "      <td>2.94</td>\n",
              "      <td>1</td>\n",
              "      <td>2</td>\n",
              "      <td>1</td>\n",
              "    </tr>\n",
              "    <tr>\n",
              "      <th>1</th>\n",
              "      <td>337</td>\n",
              "      <td>11</td>\n",
              "      <td>111</td>\n",
              "      <td>1</td>\n",
              "      <td>7.44</td>\n",
              "      <td>1</td>\n",
              "      <td>2</td>\n",
              "      <td>1</td>\n",
              "    </tr>\n",
              "    <tr>\n",
              "      <th>2</th>\n",
              "      <td>423</td>\n",
              "      <td>12</td>\n",
              "      <td>111</td>\n",
              "      <td>0</td>\n",
              "      <td>0.97</td>\n",
              "      <td>1</td>\n",
              "      <td>2</td>\n",
              "      <td>1</td>\n",
              "    </tr>\n",
              "    <tr>\n",
              "      <th>3</th>\n",
              "      <td>432</td>\n",
              "      <td>12</td>\n",
              "      <td>111</td>\n",
              "      <td>0</td>\n",
              "      <td>4.97</td>\n",
              "      <td>1</td>\n",
              "      <td>2</td>\n",
              "      <td>1</td>\n",
              "    </tr>\n",
              "    <tr>\n",
              "      <th>4</th>\n",
              "      <td>581</td>\n",
              "      <td>21</td>\n",
              "      <td>111</td>\n",
              "      <td>0</td>\n",
              "      <td>4.88</td>\n",
              "      <td>1</td>\n",
              "      <td>1</td>\n",
              "      <td>1</td>\n",
              "    </tr>\n",
              "    <tr>\n",
              "      <th>...</th>\n",
              "      <td>...</td>\n",
              "      <td>...</td>\n",
              "      <td>...</td>\n",
              "      <td>...</td>\n",
              "      <td>...</td>\n",
              "      <td>...</td>\n",
              "      <td>...</td>\n",
              "      <td>...</td>\n",
              "    </tr>\n",
              "    <tr>\n",
              "      <th>394995</th>\n",
              "      <td>2932</td>\n",
              "      <td>33</td>\n",
              "      <td>333</td>\n",
              "      <td>2</td>\n",
              "      <td>2.78</td>\n",
              "      <td>0</td>\n",
              "      <td>0</td>\n",
              "      <td>2</td>\n",
              "    </tr>\n",
              "    <tr>\n",
              "      <th>394996</th>\n",
              "      <td>2935</td>\n",
              "      <td>33</td>\n",
              "      <td>333</td>\n",
              "      <td>8</td>\n",
              "      <td>0.20</td>\n",
              "      <td>0</td>\n",
              "      <td>0</td>\n",
              "      <td>2</td>\n",
              "    </tr>\n",
              "    <tr>\n",
              "      <th>394997</th>\n",
              "      <td>3004</td>\n",
              "      <td>33</td>\n",
              "      <td>333</td>\n",
              "      <td>0</td>\n",
              "      <td>2.50</td>\n",
              "      <td>0</td>\n",
              "      <td>0</td>\n",
              "      <td>2</td>\n",
              "    </tr>\n",
              "    <tr>\n",
              "      <th>394998</th>\n",
              "      <td>3008</td>\n",
              "      <td>33</td>\n",
              "      <td>333</td>\n",
              "      <td>0</td>\n",
              "      <td>1.98</td>\n",
              "      <td>0</td>\n",
              "      <td>0</td>\n",
              "      <td>2</td>\n",
              "    </tr>\n",
              "    <tr>\n",
              "      <th>394999</th>\n",
              "      <td>3021</td>\n",
              "      <td>33</td>\n",
              "      <td>333</td>\n",
              "      <td>0</td>\n",
              "      <td>2.08</td>\n",
              "      <td>0</td>\n",
              "      <td>0</td>\n",
              "      <td>2</td>\n",
              "    </tr>\n",
              "  </tbody>\n",
              "</table>\n",
              "<p>395000 rows × 8 columns</p>\n",
              "</div>"
            ],
            "text/plain": [
              "        product_identifier  department_identifier  ...  cat_prod_encoded  Month\n",
              "0                       74                     11  ...                 2      1\n",
              "1                      337                     11  ...                 2      1\n",
              "2                      423                     12  ...                 2      1\n",
              "3                      432                     12  ...                 2      1\n",
              "4                      581                     21  ...                 1      1\n",
              "...                    ...                    ...  ...               ...    ...\n",
              "394995                2932                     33  ...                 0      2\n",
              "394996                2935                     33  ...                 0      2\n",
              "394997                3004                     33  ...                 0      2\n",
              "394998                3008                     33  ...                 0      2\n",
              "394999                3021                     33  ...                 0      2\n",
              "\n",
              "[395000 rows x 8 columns]"
            ]
          },
          "metadata": {
            "tags": []
          },
          "execution_count": 22
        }
      ]
    },
    {
      "cell_type": "code",
      "metadata": {
        "execution": {
          "iopub.execute_input": "2021-01-28T19:25:39.831742Z",
          "iopub.status.busy": "2021-01-28T19:25:39.830903Z",
          "iopub.status.idle": "2021-01-28T19:25:39.834415Z",
          "shell.execute_reply": "2021-01-28T19:25:39.833903Z"
        },
        "papermill": {
          "duration": 0.06328,
          "end_time": "2021-01-28T19:25:39.834560",
          "exception": false,
          "start_time": "2021-01-28T19:25:39.771280",
          "status": "completed"
        },
        "tags": [],
        "id": "XCHK13Qakagi"
      },
      "source": [
        "##using different machine learning algorithm"
      ],
      "execution_count": null,
      "outputs": []
    },
    {
      "cell_type": "code",
      "metadata": {
        "execution": {
          "iopub.execute_input": "2021-01-28T19:25:39.948170Z",
          "iopub.status.busy": "2021-01-28T19:25:39.947422Z",
          "iopub.status.idle": "2021-01-28T19:25:39.956111Z",
          "shell.execute_reply": "2021-01-28T19:25:39.956598Z"
        },
        "papermill": {
          "duration": 0.067769,
          "end_time": "2021-01-28T19:25:39.956811",
          "exception": false,
          "start_time": "2021-01-28T19:25:39.889042",
          "status": "completed"
        },
        "tags": [],
        "id": "5gn2ywdLkagi"
      },
      "source": [
        "def knn():\n",
        "    knn = KNeighborsRegressor(n_neighbors=10)\n",
        "    return knn\n",
        "\n",
        "def extraTreesRegressor():\n",
        "    clf = ExtraTreesRegressor(n_estimators=100,max_features='auto', verbose=1, n_jobs=1)\n",
        "    return clf\n",
        "\n",
        "def randomForestRegressor():\n",
        "    clf = RandomForestRegressor(n_estimators=100,max_features='log2', verbose=1)\n",
        "    return clf\n",
        "\n",
        "def svm():\n",
        "    clf = SVR(kernel='rbf', gamma='auto')\n",
        "    return clf\n",
        "\n",
        "def predict_(m, test_x):\n",
        "    return pd.Series(m.predict(test_x))\n",
        "\n",
        "def model_():\n",
        "#     return knn()\n",
        "    return extraTreesRegressor()\n",
        "#     return svm()\n",
        "#     return nn()\n",
        "#     return randomForestRegressor()    \n",
        "\n",
        "def train_(train_x, train_y):\n",
        "    m = model_()\n",
        "    m.fit(train_x, train_y)\n",
        "    return m\n",
        "\n",
        "def train_and_predict(train_x, train_y, test_x):\n",
        "    m = train_(train_x, train_y)\n",
        "    return predict_(m, test_x), m\n"
      ],
      "execution_count": null,
      "outputs": []
    },
    {
      "cell_type": "code",
      "metadata": {
        "execution": {
          "iopub.execute_input": "2021-01-28T19:25:40.072304Z",
          "iopub.status.busy": "2021-01-28T19:25:40.071282Z",
          "iopub.status.idle": "2021-01-28T19:25:40.076212Z",
          "shell.execute_reply": "2021-01-28T19:25:40.076867Z"
        },
        "papermill": {
          "duration": 0.065108,
          "end_time": "2021-01-28T19:25:40.077069",
          "exception": false,
          "start_time": "2021-01-28T19:25:40.011961",
          "status": "completed"
        },
        "tags": [],
        "id": "a3v33dfdkagj"
      },
      "source": [
        "def calculate_error(test_y, predicted, weights):\n",
        "    return mean_absolute_error(test_y, predicted, sample_weight=weights)"
      ],
      "execution_count": null,
      "outputs": []
    },
    {
      "cell_type": "code",
      "metadata": {
        "execution": {
          "iopub.execute_input": "2021-01-28T19:25:40.191778Z",
          "iopub.status.busy": "2021-01-28T19:25:40.191050Z",
          "iopub.status.idle": "2021-01-28T19:25:40.195393Z",
          "shell.execute_reply": "2021-01-28T19:25:40.194915Z"
        },
        "papermill": {
          "duration": 0.062106,
          "end_time": "2021-01-28T19:25:40.195529",
          "exception": false,
          "start_time": "2021-01-28T19:25:40.133423",
          "status": "completed"
        },
        "tags": [],
        "id": "VHJzpo1Ekagj"
      },
      "source": [
        "from sklearn.model_selection import KFold"
      ],
      "execution_count": null,
      "outputs": []
    },
    {
      "cell_type": "code",
      "metadata": {
        "execution": {
          "iopub.execute_input": "2021-01-28T19:25:40.316044Z",
          "iopub.status.busy": "2021-01-28T19:25:40.315336Z",
          "iopub.status.idle": "2021-01-28T19:25:40.656751Z",
          "shell.execute_reply": "2021-01-28T19:25:40.656014Z"
        },
        "papermill": {
          "duration": 0.405593,
          "end_time": "2021-01-28T19:25:40.656909",
          "exception": false,
          "start_time": "2021-01-28T19:25:40.251316",
          "status": "completed"
        },
        "tags": [],
        "id": "FGPGBhsBkagj"
      },
      "source": [
        "##K-Folds cross-validator\n",
        "#Provides train/test indices to split data in train/test sets. Split dataset into k consecutive folds (without shuffling by default).\n",
        "kf = KFold(n_splits=5)\n",
        "splited = []\n",
        "# dataset2 = dataset.copy()\n",
        "for name, group in dataset.groupby([\"outlet\", \"department_identifier\"]):\n",
        "    group = group.reset_index(drop=True)\n",
        "    trains_x = []\n",
        "    trains_y = []\n",
        "    tests_x = []\n",
        "    tests_y = []\n",
        "    if group.shape[0] <= 5:\n",
        "        f = np.array(range(5))\n",
        "        np.random.shuffle(f)\n",
        "        group['fold'] = f[:group.shape[0]]\n",
        "        continue\n",
        "    fold = 0\n",
        "    for train_index, test_index in kf.split(group):\n",
        "        group.loc[test_index, 'fold'] = fold\n",
        "        fold += 1\n",
        "    splited.append(group)\n",
        "\n",
        "splited = pd.concat(splited).reset_index(drop=True)"
      ],
      "execution_count": null,
      "outputs": []
    },
    {
      "cell_type": "code",
      "metadata": {
        "execution": {
          "iopub.execute_input": "2021-01-28T19:25:40.790404Z",
          "iopub.status.busy": "2021-01-28T19:25:40.789410Z",
          "iopub.status.idle": "2021-01-28T19:25:40.794892Z",
          "shell.execute_reply": "2021-01-28T19:25:40.794234Z"
        },
        "papermill": {
          "duration": 0.082098,
          "end_time": "2021-01-28T19:25:40.795064",
          "exception": false,
          "start_time": "2021-01-28T19:25:40.712966",
          "status": "completed"
        },
        "tags": [],
        "colab": {
          "base_uri": "https://localhost:8080/",
          "height": 419
        },
        "id": "7EsOw_vAkagj",
        "outputId": "194d629e-9e5e-4a93-b3d2-41a918c92ed4"
      },
      "source": [
        "splited"
      ],
      "execution_count": null,
      "outputs": [
        {
          "output_type": "execute_result",
          "data": {
            "text/html": [
              "<div>\n",
              "<style scoped>\n",
              "    .dataframe tbody tr th:only-of-type {\n",
              "        vertical-align: middle;\n",
              "    }\n",
              "\n",
              "    .dataframe tbody tr th {\n",
              "        vertical-align: top;\n",
              "    }\n",
              "\n",
              "    .dataframe thead th {\n",
              "        text-align: right;\n",
              "    }\n",
              "</style>\n",
              "<table border=\"1\" class=\"dataframe\">\n",
              "  <thead>\n",
              "    <tr style=\"text-align: right;\">\n",
              "      <th></th>\n",
              "      <th>product_identifier</th>\n",
              "      <th>department_identifier</th>\n",
              "      <th>outlet</th>\n",
              "      <th>sales</th>\n",
              "      <th>sell_price</th>\n",
              "      <th>state_encoded</th>\n",
              "      <th>cat_prod_encoded</th>\n",
              "      <th>Month</th>\n",
              "      <th>fold</th>\n",
              "    </tr>\n",
              "  </thead>\n",
              "  <tbody>\n",
              "    <tr>\n",
              "      <th>0</th>\n",
              "      <td>74</td>\n",
              "      <td>11</td>\n",
              "      <td>111</td>\n",
              "      <td>0</td>\n",
              "      <td>2.94</td>\n",
              "      <td>1</td>\n",
              "      <td>2</td>\n",
              "      <td>1</td>\n",
              "      <td>0.0</td>\n",
              "    </tr>\n",
              "    <tr>\n",
              "      <th>1</th>\n",
              "      <td>337</td>\n",
              "      <td>11</td>\n",
              "      <td>111</td>\n",
              "      <td>1</td>\n",
              "      <td>7.44</td>\n",
              "      <td>1</td>\n",
              "      <td>2</td>\n",
              "      <td>1</td>\n",
              "      <td>0.0</td>\n",
              "    </tr>\n",
              "    <tr>\n",
              "      <th>2</th>\n",
              "      <td>74</td>\n",
              "      <td>11</td>\n",
              "      <td>111</td>\n",
              "      <td>0</td>\n",
              "      <td>2.94</td>\n",
              "      <td>1</td>\n",
              "      <td>2</td>\n",
              "      <td>1</td>\n",
              "      <td>0.0</td>\n",
              "    </tr>\n",
              "    <tr>\n",
              "      <th>3</th>\n",
              "      <td>337</td>\n",
              "      <td>11</td>\n",
              "      <td>111</td>\n",
              "      <td>5</td>\n",
              "      <td>7.44</td>\n",
              "      <td>1</td>\n",
              "      <td>2</td>\n",
              "      <td>1</td>\n",
              "      <td>0.0</td>\n",
              "    </tr>\n",
              "    <tr>\n",
              "      <th>4</th>\n",
              "      <td>74</td>\n",
              "      <td>11</td>\n",
              "      <td>111</td>\n",
              "      <td>1</td>\n",
              "      <td>2.94</td>\n",
              "      <td>1</td>\n",
              "      <td>2</td>\n",
              "      <td>1</td>\n",
              "      <td>0.0</td>\n",
              "    </tr>\n",
              "    <tr>\n",
              "      <th>...</th>\n",
              "      <td>...</td>\n",
              "      <td>...</td>\n",
              "      <td>...</td>\n",
              "      <td>...</td>\n",
              "      <td>...</td>\n",
              "      <td>...</td>\n",
              "      <td>...</td>\n",
              "      <td>...</td>\n",
              "      <td>...</td>\n",
              "    </tr>\n",
              "    <tr>\n",
              "      <th>394995</th>\n",
              "      <td>2932</td>\n",
              "      <td>33</td>\n",
              "      <td>333</td>\n",
              "      <td>2</td>\n",
              "      <td>2.78</td>\n",
              "      <td>0</td>\n",
              "      <td>0</td>\n",
              "      <td>2</td>\n",
              "      <td>4.0</td>\n",
              "    </tr>\n",
              "    <tr>\n",
              "      <th>394996</th>\n",
              "      <td>2935</td>\n",
              "      <td>33</td>\n",
              "      <td>333</td>\n",
              "      <td>8</td>\n",
              "      <td>0.20</td>\n",
              "      <td>0</td>\n",
              "      <td>0</td>\n",
              "      <td>2</td>\n",
              "      <td>4.0</td>\n",
              "    </tr>\n",
              "    <tr>\n",
              "      <th>394997</th>\n",
              "      <td>3004</td>\n",
              "      <td>33</td>\n",
              "      <td>333</td>\n",
              "      <td>0</td>\n",
              "      <td>2.50</td>\n",
              "      <td>0</td>\n",
              "      <td>0</td>\n",
              "      <td>2</td>\n",
              "      <td>4.0</td>\n",
              "    </tr>\n",
              "    <tr>\n",
              "      <th>394998</th>\n",
              "      <td>3008</td>\n",
              "      <td>33</td>\n",
              "      <td>333</td>\n",
              "      <td>0</td>\n",
              "      <td>1.98</td>\n",
              "      <td>0</td>\n",
              "      <td>0</td>\n",
              "      <td>2</td>\n",
              "      <td>4.0</td>\n",
              "    </tr>\n",
              "    <tr>\n",
              "      <th>394999</th>\n",
              "      <td>3021</td>\n",
              "      <td>33</td>\n",
              "      <td>333</td>\n",
              "      <td>0</td>\n",
              "      <td>2.08</td>\n",
              "      <td>0</td>\n",
              "      <td>0</td>\n",
              "      <td>2</td>\n",
              "      <td>4.0</td>\n",
              "    </tr>\n",
              "  </tbody>\n",
              "</table>\n",
              "<p>395000 rows × 9 columns</p>\n",
              "</div>"
            ],
            "text/plain": [
              "        product_identifier  department_identifier  ...  Month  fold\n",
              "0                       74                     11  ...      1   0.0\n",
              "1                      337                     11  ...      1   0.0\n",
              "2                       74                     11  ...      1   0.0\n",
              "3                      337                     11  ...      1   0.0\n",
              "4                       74                     11  ...      1   0.0\n",
              "...                    ...                    ...  ...    ...   ...\n",
              "394995                2932                     33  ...      2   4.0\n",
              "394996                2935                     33  ...      2   4.0\n",
              "394997                3004                     33  ...      2   4.0\n",
              "394998                3008                     33  ...      2   4.0\n",
              "394999                3021                     33  ...      2   4.0\n",
              "\n",
              "[395000 rows x 9 columns]"
            ]
          },
          "metadata": {
            "tags": []
          },
          "execution_count": 28
        }
      ]
    },
    {
      "cell_type": "code",
      "metadata": {
        "execution": {
          "iopub.execute_input": "2021-01-28T19:25:40.912647Z",
          "iopub.status.busy": "2021-01-28T19:25:40.912020Z",
          "iopub.status.idle": "2021-01-28T19:25:41.050462Z",
          "shell.execute_reply": "2021-01-28T19:25:41.049816Z"
        },
        "papermill": {
          "duration": 0.199689,
          "end_time": "2021-01-28T19:25:41.050610",
          "exception": false,
          "start_time": "2021-01-28T19:25:40.850921",
          "status": "completed"
        },
        "tags": [],
        "id": "yitqJgCAkagk"
      },
      "source": [
        "from sklearn.ensemble import ExtraTreesRegressor, RandomForestRegressor"
      ],
      "execution_count": null,
      "outputs": []
    },
    {
      "cell_type": "code",
      "metadata": {
        "execution": {
          "iopub.execute_input": "2021-01-28T19:25:41.169071Z",
          "iopub.status.busy": "2021-01-28T19:25:41.168288Z",
          "iopub.status.idle": "2021-01-28T19:25:41.171286Z",
          "shell.execute_reply": "2021-01-28T19:25:41.171741Z"
        },
        "papermill": {
          "duration": 0.064345,
          "end_time": "2021-01-28T19:25:41.171915",
          "exception": false,
          "start_time": "2021-01-28T19:25:41.107570",
          "status": "completed"
        },
        "tags": [],
        "id": "74MixHo7kagl"
      },
      "source": [
        "from sklearn.metrics import mean_absolute_error"
      ],
      "execution_count": null,
      "outputs": []
    },
    {
      "cell_type": "code",
      "metadata": {
        "execution": {
          "iopub.execute_input": "2021-01-28T19:25:41.294419Z",
          "iopub.status.busy": "2021-01-28T19:25:41.293731Z",
          "iopub.status.idle": "2021-01-28T19:27:21.772176Z",
          "shell.execute_reply": "2021-01-28T19:27:21.771499Z"
        },
        "papermill": {
          "duration": 100.545163,
          "end_time": "2021-01-28T19:27:21.772328",
          "exception": false,
          "start_time": "2021-01-28T19:25:41.227165",
          "status": "completed"
        },
        "tags": [],
        "colab": {
          "base_uri": "https://localhost:8080/"
        },
        "id": "zkGc60DYkagl",
        "outputId": "9af4a9cc-10a9-4bab-9bf3-d73634842b88"
      },
      "source": [
        "best_model = None\n",
        "error_cv = 0\n",
        "best_error = np.iinfo(np.int32).max\n",
        "for fold in range(5):\n",
        "    dataset_train = splited.loc[splited['fold'] != fold]\n",
        "    dataset_test = splited.loc[splited['fold'] == fold]\n",
        "    train_y = dataset_train['sales']\n",
        "    train_x = dataset_train.drop(columns=['sales', 'fold'])\n",
        "    test_y = dataset_test['sales']\n",
        "    test_x = dataset_test.drop(columns=['sales', 'fold'])\n",
        "    print(dataset_train.shape, dataset_test.shape)\n",
        "    predicted, model = train_and_predict(train_x, train_y, test_x)\n",
        "    weights = test_x['outlet'].replace(True, 5).replace(False, 1)\n",
        "    error = calculate_error(test_y, predicted, weights)\n",
        "    error_cv += error\n",
        "    print(fold, error)\n",
        "    if error < best_error:\n",
        "        print('Find best model')\n",
        "        best_error = error\n",
        "        best_model = model\n",
        "error_cv /= 5"
      ],
      "execution_count": null,
      "outputs": [
        {
          "output_type": "stream",
          "text": [
            "(316000, 9) (79000, 9)\n"
          ],
          "name": "stdout"
        },
        {
          "output_type": "stream",
          "text": [
            "[Parallel(n_jobs=1)]: Using backend SequentialBackend with 1 concurrent workers.\n",
            "[Parallel(n_jobs=1)]: Done 100 out of 100 | elapsed:   19.8s finished\n",
            "[Parallel(n_jobs=1)]: Using backend SequentialBackend with 1 concurrent workers.\n",
            "[Parallel(n_jobs=1)]: Done 100 out of 100 | elapsed:    0.5s finished\n",
            "[Parallel(n_jobs=1)]: Using backend SequentialBackend with 1 concurrent workers.\n"
          ],
          "name": "stderr"
        },
        {
          "output_type": "stream",
          "text": [
            "0 1.2387110128948498\n",
            "Find best model\n",
            "(316000, 9) (79000, 9)\n"
          ],
          "name": "stdout"
        },
        {
          "output_type": "stream",
          "text": [
            "[Parallel(n_jobs=1)]: Done 100 out of 100 | elapsed:   21.0s finished\n",
            "[Parallel(n_jobs=1)]: Using backend SequentialBackend with 1 concurrent workers.\n",
            "[Parallel(n_jobs=1)]: Done 100 out of 100 | elapsed:    0.5s finished\n",
            "[Parallel(n_jobs=1)]: Using backend SequentialBackend with 1 concurrent workers.\n"
          ],
          "name": "stderr"
        },
        {
          "output_type": "stream",
          "text": [
            "1 1.1442954243400743\n",
            "Find best model\n",
            "(316000, 9) (79000, 9)\n"
          ],
          "name": "stdout"
        },
        {
          "output_type": "stream",
          "text": [
            "[Parallel(n_jobs=1)]: Done 100 out of 100 | elapsed:   20.0s finished\n",
            "[Parallel(n_jobs=1)]: Using backend SequentialBackend with 1 concurrent workers.\n",
            "[Parallel(n_jobs=1)]: Done 100 out of 100 | elapsed:    0.5s finished\n",
            "[Parallel(n_jobs=1)]: Using backend SequentialBackend with 1 concurrent workers.\n"
          ],
          "name": "stderr"
        },
        {
          "output_type": "stream",
          "text": [
            "2 1.180879889459888\n",
            "(316000, 9) (79000, 9)\n"
          ],
          "name": "stdout"
        },
        {
          "output_type": "stream",
          "text": [
            "[Parallel(n_jobs=1)]: Done 100 out of 100 | elapsed:   20.9s finished\n",
            "[Parallel(n_jobs=1)]: Using backend SequentialBackend with 1 concurrent workers.\n",
            "[Parallel(n_jobs=1)]: Done 100 out of 100 | elapsed:    0.5s finished\n",
            "[Parallel(n_jobs=1)]: Using backend SequentialBackend with 1 concurrent workers.\n"
          ],
          "name": "stderr"
        },
        {
          "output_type": "stream",
          "text": [
            "3 1.1098180587476256\n",
            "Find best model\n",
            "(316000, 9) (79000, 9)\n"
          ],
          "name": "stdout"
        },
        {
          "output_type": "stream",
          "text": [
            "[Parallel(n_jobs=1)]: Done 100 out of 100 | elapsed:   20.3s finished\n",
            "[Parallel(n_jobs=1)]: Using backend SequentialBackend with 1 concurrent workers.\n"
          ],
          "name": "stderr"
        },
        {
          "output_type": "stream",
          "text": [
            "4 1.1869525643415655\n"
          ],
          "name": "stdout"
        },
        {
          "output_type": "stream",
          "text": [
            "[Parallel(n_jobs=1)]: Done 100 out of 100 | elapsed:    0.5s finished\n"
          ],
          "name": "stderr"
        }
      ]
    },
    {
      "cell_type": "code",
      "metadata": {
        "execution": {
          "iopub.execute_input": "2021-01-28T19:27:21.904331Z",
          "iopub.status.busy": "2021-01-28T19:27:21.903687Z",
          "iopub.status.idle": "2021-01-28T19:27:21.907371Z",
          "shell.execute_reply": "2021-01-28T19:27:21.906788Z"
        },
        "papermill": {
          "duration": 0.07263,
          "end_time": "2021-01-28T19:27:21.907525",
          "exception": false,
          "start_time": "2021-01-28T19:27:21.834895",
          "status": "completed"
        },
        "tags": [],
        "id": "mz1r8Ld7kagl"
      },
      "source": [
        "if error < best_error:\n",
        "        print('Find best model')\n",
        "        best_error = error\n",
        "        best_model = model"
      ],
      "execution_count": null,
      "outputs": []
    },
    {
      "cell_type": "code",
      "metadata": {
        "execution": {
          "iopub.execute_input": "2021-01-28T19:27:22.039904Z",
          "iopub.status.busy": "2021-01-28T19:27:22.039206Z",
          "iopub.status.idle": "2021-01-28T19:27:22.043404Z",
          "shell.execute_reply": "2021-01-28T19:27:22.042680Z"
        },
        "papermill": {
          "duration": 0.072922,
          "end_time": "2021-01-28T19:27:22.043555",
          "exception": false,
          "start_time": "2021-01-28T19:27:21.970633",
          "status": "completed"
        },
        "tags": [],
        "colab": {
          "base_uri": "https://localhost:8080/"
        },
        "id": "GDuX7i81kagm",
        "outputId": "2f953f7b-0e4a-45cd-d060-9db827b931ae"
      },
      "source": [
        "print(best_error)"
      ],
      "execution_count": null,
      "outputs": [
        {
          "output_type": "stream",
          "text": [
            "1.1098180587476256\n"
          ],
          "name": "stdout"
        }
      ]
    },
    {
      "cell_type": "code",
      "metadata": {
        "execution": {
          "iopub.execute_input": "2021-01-28T19:27:22.176792Z",
          "iopub.status.busy": "2021-01-28T19:27:22.175798Z",
          "iopub.status.idle": "2021-01-28T19:27:22.182365Z",
          "shell.execute_reply": "2021-01-28T19:27:22.181729Z"
        },
        "papermill": {
          "duration": 0.074988,
          "end_time": "2021-01-28T19:27:22.182504",
          "exception": false,
          "start_time": "2021-01-28T19:27:22.107516",
          "status": "completed"
        },
        "tags": [],
        "colab": {
          "base_uri": "https://localhost:8080/"
        },
        "id": "wmxmNfA-kagm",
        "outputId": "fcb0ce48-d392-41c6-9e99-64f61ca01cf4"
      },
      "source": [
        "##Decision tree\n",
        "print(best_model)"
      ],
      "execution_count": null,
      "outputs": [
        {
          "output_type": "stream",
          "text": [
            "ExtraTreesRegressor(bootstrap=False, ccp_alpha=0.0, criterion='mse',\n",
            "                    max_depth=None, max_features='auto', max_leaf_nodes=None,\n",
            "                    max_samples=None, min_impurity_decrease=0.0,\n",
            "                    min_impurity_split=None, min_samples_leaf=1,\n",
            "                    min_samples_split=2, min_weight_fraction_leaf=0.0,\n",
            "                    n_estimators=100, n_jobs=1, oob_score=False,\n",
            "                    random_state=None, verbose=1, warm_start=False)\n"
          ],
          "name": "stdout"
        }
      ]
    },
    {
      "cell_type": "code",
      "metadata": {
        "execution": {
          "iopub.execute_input": "2021-01-28T19:27:22.314097Z",
          "iopub.status.busy": "2021-01-28T19:27:22.313167Z",
          "iopub.status.idle": "2021-01-28T19:27:22.316807Z",
          "shell.execute_reply": "2021-01-28T19:27:22.316275Z"
        },
        "papermill": {
          "duration": 0.071309,
          "end_time": "2021-01-28T19:27:22.316948",
          "exception": false,
          "start_time": "2021-01-28T19:27:22.245639",
          "status": "completed"
        },
        "tags": [],
        "id": "FsasWMFxkagm"
      },
      "source": [
        "##Using test data"
      ],
      "execution_count": null,
      "outputs": []
    },
    {
      "cell_type": "code",
      "metadata": {
        "execution": {
          "iopub.execute_input": "2021-01-28T19:27:22.449413Z",
          "iopub.status.busy": "2021-01-28T19:27:22.448673Z",
          "iopub.status.idle": "2021-01-28T19:27:22.532332Z",
          "shell.execute_reply": "2021-01-28T19:27:22.531584Z"
        },
        "papermill": {
          "duration": 0.15262,
          "end_time": "2021-01-28T19:27:22.532483",
          "exception": false,
          "start_time": "2021-01-28T19:27:22.379863",
          "status": "completed"
        },
        "tags": [],
        "id": "MZy_OBsikagm"
      },
      "source": [
        "dataset_test = pd.read_csv(\"/content/drive/MyDrive/Colab Notebooks/archive/test_data.csv\", names=['id','date','product_identifier','department_identifier','category_of_product','outlet','state'],sep=',', header=0)\n",
        "prod_price = pd.read_csv(\"/content/drive/MyDrive/Colab Notebooks/archive/product_prices.csv\",sep=',', header=0,names=['outlet','product_identifier','week_id','sell_price'])\n",
        "date_week=pd.read_csv(\"/content/drive/MyDrive/Colab Notebooks/archive/date_to_week_id_map.csv\",sep=',',header=0, names=['date','week_id'])"
      ],
      "execution_count": null,
      "outputs": []
    },
    {
      "cell_type": "code",
      "metadata": {
        "execution": {
          "iopub.execute_input": "2021-01-28T19:27:22.667303Z",
          "iopub.status.busy": "2021-01-28T19:27:22.666211Z",
          "iopub.status.idle": "2021-01-28T19:27:22.798066Z",
          "shell.execute_reply": "2021-01-28T19:27:22.798525Z"
        },
        "papermill": {
          "duration": 0.203184,
          "end_time": "2021-01-28T19:27:22.798729",
          "exception": false,
          "start_time": "2021-01-28T19:27:22.595545",
          "status": "completed"
        },
        "tags": [],
        "id": "OCb8FFBHkagn",
        "outputId": "233a51c3-e39b-4a81-e950-0b108306d1cd"
      },
      "source": [
        "df=pd.merge(prod_price,date_week, on=['week_id'], how='inner')\n",
        "dataset_test=pd.merge(dataset_test,df, on=['date','product_identifier','outlet'], how='inner')\n",
        "dataset_test"
      ],
      "execution_count": null,
      "outputs": [
        {
          "output_type": "execute_result",
          "data": {
            "text/html": [
              "<div>\n",
              "<style scoped>\n",
              "    .dataframe tbody tr th:only-of-type {\n",
              "        vertical-align: middle;\n",
              "    }\n",
              "\n",
              "    .dataframe tbody tr th {\n",
              "        vertical-align: top;\n",
              "    }\n",
              "\n",
              "    .dataframe thead th {\n",
              "        text-align: right;\n",
              "    }\n",
              "</style>\n",
              "<table border=\"1\" class=\"dataframe\">\n",
              "  <thead>\n",
              "    <tr style=\"text-align: right;\">\n",
              "      <th></th>\n",
              "      <th>id</th>\n",
              "      <th>date</th>\n",
              "      <th>product_identifier</th>\n",
              "      <th>department_identifier</th>\n",
              "      <th>category_of_product</th>\n",
              "      <th>outlet</th>\n",
              "      <th>state</th>\n",
              "      <th>week_id</th>\n",
              "      <th>sell_price</th>\n",
              "    </tr>\n",
              "  </thead>\n",
              "  <tbody>\n",
              "    <tr>\n",
              "      <th>0</th>\n",
              "      <td>1</td>\n",
              "      <td>2014-03-01</td>\n",
              "      <td>74</td>\n",
              "      <td>11</td>\n",
              "      <td>others</td>\n",
              "      <td>111</td>\n",
              "      <td>Maharashtra</td>\n",
              "      <td>162</td>\n",
              "      <td>3.43</td>\n",
              "    </tr>\n",
              "    <tr>\n",
              "      <th>1</th>\n",
              "      <td>2</td>\n",
              "      <td>2014-03-01</td>\n",
              "      <td>337</td>\n",
              "      <td>11</td>\n",
              "      <td>others</td>\n",
              "      <td>111</td>\n",
              "      <td>Maharashtra</td>\n",
              "      <td>162</td>\n",
              "      <td>7.78</td>\n",
              "    </tr>\n",
              "    <tr>\n",
              "      <th>2</th>\n",
              "      <td>3</td>\n",
              "      <td>2014-03-01</td>\n",
              "      <td>423</td>\n",
              "      <td>12</td>\n",
              "      <td>others</td>\n",
              "      <td>111</td>\n",
              "      <td>Maharashtra</td>\n",
              "      <td>162</td>\n",
              "      <td>0.97</td>\n",
              "    </tr>\n",
              "    <tr>\n",
              "      <th>3</th>\n",
              "      <td>4</td>\n",
              "      <td>2014-03-01</td>\n",
              "      <td>432</td>\n",
              "      <td>12</td>\n",
              "      <td>others</td>\n",
              "      <td>111</td>\n",
              "      <td>Maharashtra</td>\n",
              "      <td>162</td>\n",
              "      <td>4.97</td>\n",
              "    </tr>\n",
              "    <tr>\n",
              "      <th>4</th>\n",
              "      <td>5</td>\n",
              "      <td>2014-03-01</td>\n",
              "      <td>581</td>\n",
              "      <td>21</td>\n",
              "      <td>fast_moving_consumer_goods</td>\n",
              "      <td>111</td>\n",
              "      <td>Maharashtra</td>\n",
              "      <td>162</td>\n",
              "      <td>4.88</td>\n",
              "    </tr>\n",
              "    <tr>\n",
              "      <th>...</th>\n",
              "      <td>...</td>\n",
              "      <td>...</td>\n",
              "      <td>...</td>\n",
              "      <td>...</td>\n",
              "      <td>...</td>\n",
              "      <td>...</td>\n",
              "      <td>...</td>\n",
              "      <td>...</td>\n",
              "      <td>...</td>\n",
              "    </tr>\n",
              "    <tr>\n",
              "      <th>15495</th>\n",
              "      <td>15496</td>\n",
              "      <td>2014-03-31</td>\n",
              "      <td>2932</td>\n",
              "      <td>33</td>\n",
              "      <td>drinks_and_food</td>\n",
              "      <td>333</td>\n",
              "      <td>Kerala</td>\n",
              "      <td>166</td>\n",
              "      <td>2.78</td>\n",
              "    </tr>\n",
              "    <tr>\n",
              "      <th>15496</th>\n",
              "      <td>15497</td>\n",
              "      <td>2014-03-31</td>\n",
              "      <td>2935</td>\n",
              "      <td>33</td>\n",
              "      <td>drinks_and_food</td>\n",
              "      <td>333</td>\n",
              "      <td>Kerala</td>\n",
              "      <td>166</td>\n",
              "      <td>0.20</td>\n",
              "    </tr>\n",
              "    <tr>\n",
              "      <th>15497</th>\n",
              "      <td>15498</td>\n",
              "      <td>2014-03-31</td>\n",
              "      <td>3004</td>\n",
              "      <td>33</td>\n",
              "      <td>drinks_and_food</td>\n",
              "      <td>333</td>\n",
              "      <td>Kerala</td>\n",
              "      <td>166</td>\n",
              "      <td>2.68</td>\n",
              "    </tr>\n",
              "    <tr>\n",
              "      <th>15498</th>\n",
              "      <td>15499</td>\n",
              "      <td>2014-03-31</td>\n",
              "      <td>3008</td>\n",
              "      <td>33</td>\n",
              "      <td>drinks_and_food</td>\n",
              "      <td>333</td>\n",
              "      <td>Kerala</td>\n",
              "      <td>166</td>\n",
              "      <td>1.98</td>\n",
              "    </tr>\n",
              "    <tr>\n",
              "      <th>15499</th>\n",
              "      <td>15500</td>\n",
              "      <td>2014-03-31</td>\n",
              "      <td>3021</td>\n",
              "      <td>33</td>\n",
              "      <td>drinks_and_food</td>\n",
              "      <td>333</td>\n",
              "      <td>Kerala</td>\n",
              "      <td>166</td>\n",
              "      <td>2.08</td>\n",
              "    </tr>\n",
              "  </tbody>\n",
              "</table>\n",
              "<p>15500 rows × 9 columns</p>\n",
              "</div>"
            ],
            "text/plain": [
              "          id        date  product_identifier  department_identifier  \\\n",
              "0          1  2014-03-01                  74                     11   \n",
              "1          2  2014-03-01                 337                     11   \n",
              "2          3  2014-03-01                 423                     12   \n",
              "3          4  2014-03-01                 432                     12   \n",
              "4          5  2014-03-01                 581                     21   \n",
              "...      ...         ...                 ...                    ...   \n",
              "15495  15496  2014-03-31                2932                     33   \n",
              "15496  15497  2014-03-31                2935                     33   \n",
              "15497  15498  2014-03-31                3004                     33   \n",
              "15498  15499  2014-03-31                3008                     33   \n",
              "15499  15500  2014-03-31                3021                     33   \n",
              "\n",
              "              category_of_product  outlet        state  week_id  sell_price  \n",
              "0                          others     111  Maharashtra      162        3.43  \n",
              "1                          others     111  Maharashtra      162        7.78  \n",
              "2                          others     111  Maharashtra      162        0.97  \n",
              "3                          others     111  Maharashtra      162        4.97  \n",
              "4      fast_moving_consumer_goods     111  Maharashtra      162        4.88  \n",
              "...                           ...     ...          ...      ...         ...  \n",
              "15495             drinks_and_food     333       Kerala      166        2.78  \n",
              "15496             drinks_and_food     333       Kerala      166        0.20  \n",
              "15497             drinks_and_food     333       Kerala      166        2.68  \n",
              "15498             drinks_and_food     333       Kerala      166        1.98  \n",
              "15499             drinks_and_food     333       Kerala      166        2.08  \n",
              "\n",
              "[15500 rows x 9 columns]"
            ]
          },
          "metadata": {
            "tags": []
          },
          "execution_count": 46
        }
      ]
    },
    {
      "cell_type": "code",
      "metadata": {
        "execution": {
          "iopub.execute_input": "2021-01-28T19:27:22.932677Z",
          "iopub.status.busy": "2021-01-28T19:27:22.931761Z",
          "iopub.status.idle": "2021-01-28T19:27:22.936964Z",
          "shell.execute_reply": "2021-01-28T19:27:22.936301Z"
        },
        "papermill": {
          "duration": 0.075898,
          "end_time": "2021-01-28T19:27:22.937128",
          "exception": false,
          "start_time": "2021-01-28T19:27:22.861230",
          "status": "completed"
        },
        "tags": [],
        "colab": {
          "base_uri": "https://localhost:8080/"
        },
        "id": "AIXtEqEnkagn",
        "outputId": "46a47765-bd66-4f32-b797-6fce3a7cf85f"
      },
      "source": [
        "##checking datatypes for test data\n",
        "dataset_test.dtypes"
      ],
      "execution_count": null,
      "outputs": [
        {
          "output_type": "execute_result",
          "data": {
            "text/plain": [
              "id                        int64\n",
              "date                     object\n",
              "product_identifier        int64\n",
              "department_identifier     int64\n",
              "category_of_product      object\n",
              "outlet                    int64\n",
              "state                    object\n",
              "dtype: object"
            ]
          },
          "metadata": {
            "tags": []
          },
          "execution_count": 38
        }
      ]
    },
    {
      "cell_type": "code",
      "metadata": {
        "execution": {
          "iopub.execute_input": "2021-01-28T19:27:23.071115Z",
          "iopub.status.busy": "2021-01-28T19:27:23.070043Z",
          "iopub.status.idle": "2021-01-28T19:27:23.082690Z",
          "shell.execute_reply": "2021-01-28T19:27:23.082056Z"
        },
        "papermill": {
          "duration": 0.082252,
          "end_time": "2021-01-28T19:27:23.082965",
          "exception": false,
          "start_time": "2021-01-28T19:27:23.000713",
          "status": "completed"
        },
        "tags": [],
        "id": "zJVQzEn9kagn"
      },
      "source": [
        "col = ['category_of_product', 'state']\n",
        "dataset_test[col] = dataset_test[col].astype('category')"
      ],
      "execution_count": null,
      "outputs": []
    },
    {
      "cell_type": "code",
      "metadata": {
        "execution": {
          "iopub.execute_input": "2021-01-28T19:27:23.218490Z",
          "iopub.status.busy": "2021-01-28T19:27:23.217592Z",
          "iopub.status.idle": "2021-01-28T19:27:23.223141Z",
          "shell.execute_reply": "2021-01-28T19:27:23.222555Z"
        },
        "papermill": {
          "duration": 0.07649,
          "end_time": "2021-01-28T19:27:23.223300",
          "exception": false,
          "start_time": "2021-01-28T19:27:23.146810",
          "status": "completed"
        },
        "tags": [],
        "colab": {
          "base_uri": "https://localhost:8080/"
        },
        "id": "bxAcCnKokago",
        "outputId": "0f94f5dc-4045-4852-d840-39ceb3e60a50"
      },
      "source": [
        "dataset_test.dtypes"
      ],
      "execution_count": null,
      "outputs": [
        {
          "output_type": "execute_result",
          "data": {
            "text/plain": [
              "id                          int64\n",
              "date                       object\n",
              "product_identifier          int64\n",
              "department_identifier       int64\n",
              "category_of_product      category\n",
              "outlet                      int64\n",
              "state                    category\n",
              "dtype: object"
            ]
          },
          "metadata": {
            "tags": []
          },
          "execution_count": 40
        }
      ]
    },
    {
      "cell_type": "code",
      "metadata": {
        "execution": {
          "iopub.execute_input": "2021-01-28T19:27:23.365919Z",
          "iopub.status.busy": "2021-01-28T19:27:23.364919Z",
          "iopub.status.idle": "2021-01-28T19:27:23.382624Z",
          "shell.execute_reply": "2021-01-28T19:27:23.382038Z"
        },
        "papermill": {
          "duration": 0.094722,
          "end_time": "2021-01-28T19:27:23.382798",
          "exception": false,
          "start_time": "2021-01-28T19:27:23.288076",
          "status": "completed"
        },
        "tags": [],
        "colab": {
          "base_uri": "https://localhost:8080/",
          "height": 419
        },
        "id": "mSQK6D5Fkago",
        "outputId": "5ff33305-eeba-4a9e-e637-1eee7b55699f"
      },
      "source": [
        "##label encoder to convert categorical data, or text data, into numbers, which our predictive models can better understand.\n",
        "dataset_test['state_encoded'] = LabelEncoder().fit_transform(dataset_test['state'])\n",
        "dataset_test[['state', 'state_encoded']]"
      ],
      "execution_count": null,
      "outputs": [
        {
          "output_type": "execute_result",
          "data": {
            "text/html": [
              "<div>\n",
              "<style scoped>\n",
              "    .dataframe tbody tr th:only-of-type {\n",
              "        vertical-align: middle;\n",
              "    }\n",
              "\n",
              "    .dataframe tbody tr th {\n",
              "        vertical-align: top;\n",
              "    }\n",
              "\n",
              "    .dataframe thead th {\n",
              "        text-align: right;\n",
              "    }\n",
              "</style>\n",
              "<table border=\"1\" class=\"dataframe\">\n",
              "  <thead>\n",
              "    <tr style=\"text-align: right;\">\n",
              "      <th></th>\n",
              "      <th>state</th>\n",
              "      <th>state_encoded</th>\n",
              "    </tr>\n",
              "  </thead>\n",
              "  <tbody>\n",
              "    <tr>\n",
              "      <th>0</th>\n",
              "      <td>Maharashtra</td>\n",
              "      <td>1</td>\n",
              "    </tr>\n",
              "    <tr>\n",
              "      <th>1</th>\n",
              "      <td>Maharashtra</td>\n",
              "      <td>1</td>\n",
              "    </tr>\n",
              "    <tr>\n",
              "      <th>2</th>\n",
              "      <td>Maharashtra</td>\n",
              "      <td>1</td>\n",
              "    </tr>\n",
              "    <tr>\n",
              "      <th>3</th>\n",
              "      <td>Maharashtra</td>\n",
              "      <td>1</td>\n",
              "    </tr>\n",
              "    <tr>\n",
              "      <th>4</th>\n",
              "      <td>Maharashtra</td>\n",
              "      <td>1</td>\n",
              "    </tr>\n",
              "    <tr>\n",
              "      <th>...</th>\n",
              "      <td>...</td>\n",
              "      <td>...</td>\n",
              "    </tr>\n",
              "    <tr>\n",
              "      <th>15495</th>\n",
              "      <td>Kerala</td>\n",
              "      <td>0</td>\n",
              "    </tr>\n",
              "    <tr>\n",
              "      <th>15496</th>\n",
              "      <td>Kerala</td>\n",
              "      <td>0</td>\n",
              "    </tr>\n",
              "    <tr>\n",
              "      <th>15497</th>\n",
              "      <td>Kerala</td>\n",
              "      <td>0</td>\n",
              "    </tr>\n",
              "    <tr>\n",
              "      <th>15498</th>\n",
              "      <td>Kerala</td>\n",
              "      <td>0</td>\n",
              "    </tr>\n",
              "    <tr>\n",
              "      <th>15499</th>\n",
              "      <td>Kerala</td>\n",
              "      <td>0</td>\n",
              "    </tr>\n",
              "  </tbody>\n",
              "</table>\n",
              "<p>15500 rows × 2 columns</p>\n",
              "</div>"
            ],
            "text/plain": [
              "             state  state_encoded\n",
              "0      Maharashtra              1\n",
              "1      Maharashtra              1\n",
              "2      Maharashtra              1\n",
              "3      Maharashtra              1\n",
              "4      Maharashtra              1\n",
              "...            ...            ...\n",
              "15495       Kerala              0\n",
              "15496       Kerala              0\n",
              "15497       Kerala              0\n",
              "15498       Kerala              0\n",
              "15499       Kerala              0\n",
              "\n",
              "[15500 rows x 2 columns]"
            ]
          },
          "metadata": {
            "tags": []
          },
          "execution_count": 41
        }
      ]
    },
    {
      "cell_type": "code",
      "metadata": {
        "execution": {
          "iopub.execute_input": "2021-01-28T19:27:23.518870Z",
          "iopub.status.busy": "2021-01-28T19:27:23.518012Z",
          "iopub.status.idle": "2021-01-28T19:27:23.522054Z",
          "shell.execute_reply": "2021-01-28T19:27:23.522739Z"
        },
        "papermill": {
          "duration": 0.074648,
          "end_time": "2021-01-28T19:27:23.522950",
          "exception": false,
          "start_time": "2021-01-28T19:27:23.448302",
          "status": "completed"
        },
        "tags": [],
        "id": "ntmWbxg5kago"
      },
      "source": [
        "#### Maharastra=1; Kerala = 0; Telangana=2"
      ],
      "execution_count": null,
      "outputs": []
    },
    {
      "cell_type": "code",
      "metadata": {
        "execution": {
          "iopub.execute_input": "2021-01-28T19:27:23.683679Z",
          "iopub.status.busy": "2021-01-28T19:27:23.682434Z",
          "iopub.status.idle": "2021-01-28T19:27:23.697590Z",
          "shell.execute_reply": "2021-01-28T19:27:23.698244Z"
        },
        "papermill": {
          "duration": 0.100195,
          "end_time": "2021-01-28T19:27:23.698429",
          "exception": false,
          "start_time": "2021-01-28T19:27:23.598234",
          "status": "completed"
        },
        "tags": [],
        "colab": {
          "base_uri": "https://localhost:8080/",
          "height": 419
        },
        "id": "87m42yt8kago",
        "outputId": "511a2be1-3ea0-48e9-fd34-321de6ce59b8"
      },
      "source": [
        "dataset_test['cat_prod_encoded'] = LabelEncoder().fit_transform(dataset_test['category_of_product'])\n",
        "dataset_test[['category_of_product', 'cat_prod_encoded']]"
      ],
      "execution_count": null,
      "outputs": [
        {
          "output_type": "execute_result",
          "data": {
            "text/html": [
              "<div>\n",
              "<style scoped>\n",
              "    .dataframe tbody tr th:only-of-type {\n",
              "        vertical-align: middle;\n",
              "    }\n",
              "\n",
              "    .dataframe tbody tr th {\n",
              "        vertical-align: top;\n",
              "    }\n",
              "\n",
              "    .dataframe thead th {\n",
              "        text-align: right;\n",
              "    }\n",
              "</style>\n",
              "<table border=\"1\" class=\"dataframe\">\n",
              "  <thead>\n",
              "    <tr style=\"text-align: right;\">\n",
              "      <th></th>\n",
              "      <th>category_of_product</th>\n",
              "      <th>cat_prod_encoded</th>\n",
              "    </tr>\n",
              "  </thead>\n",
              "  <tbody>\n",
              "    <tr>\n",
              "      <th>0</th>\n",
              "      <td>others</td>\n",
              "      <td>2</td>\n",
              "    </tr>\n",
              "    <tr>\n",
              "      <th>1</th>\n",
              "      <td>others</td>\n",
              "      <td>2</td>\n",
              "    </tr>\n",
              "    <tr>\n",
              "      <th>2</th>\n",
              "      <td>others</td>\n",
              "      <td>2</td>\n",
              "    </tr>\n",
              "    <tr>\n",
              "      <th>3</th>\n",
              "      <td>others</td>\n",
              "      <td>2</td>\n",
              "    </tr>\n",
              "    <tr>\n",
              "      <th>4</th>\n",
              "      <td>fast_moving_consumer_goods</td>\n",
              "      <td>1</td>\n",
              "    </tr>\n",
              "    <tr>\n",
              "      <th>...</th>\n",
              "      <td>...</td>\n",
              "      <td>...</td>\n",
              "    </tr>\n",
              "    <tr>\n",
              "      <th>15495</th>\n",
              "      <td>drinks_and_food</td>\n",
              "      <td>0</td>\n",
              "    </tr>\n",
              "    <tr>\n",
              "      <th>15496</th>\n",
              "      <td>drinks_and_food</td>\n",
              "      <td>0</td>\n",
              "    </tr>\n",
              "    <tr>\n",
              "      <th>15497</th>\n",
              "      <td>drinks_and_food</td>\n",
              "      <td>0</td>\n",
              "    </tr>\n",
              "    <tr>\n",
              "      <th>15498</th>\n",
              "      <td>drinks_and_food</td>\n",
              "      <td>0</td>\n",
              "    </tr>\n",
              "    <tr>\n",
              "      <th>15499</th>\n",
              "      <td>drinks_and_food</td>\n",
              "      <td>0</td>\n",
              "    </tr>\n",
              "  </tbody>\n",
              "</table>\n",
              "<p>15500 rows × 2 columns</p>\n",
              "</div>"
            ],
            "text/plain": [
              "              category_of_product  cat_prod_encoded\n",
              "0                          others                 2\n",
              "1                          others                 2\n",
              "2                          others                 2\n",
              "3                          others                 2\n",
              "4      fast_moving_consumer_goods                 1\n",
              "...                           ...               ...\n",
              "15495             drinks_and_food                 0\n",
              "15496             drinks_and_food                 0\n",
              "15497             drinks_and_food                 0\n",
              "15498             drinks_and_food                 0\n",
              "15499             drinks_and_food                 0\n",
              "\n",
              "[15500 rows x 2 columns]"
            ]
          },
          "metadata": {
            "tags": []
          },
          "execution_count": 42
        }
      ]
    },
    {
      "cell_type": "code",
      "metadata": {
        "execution": {
          "iopub.execute_input": "2021-01-28T19:27:24.763710Z",
          "iopub.status.busy": "2021-01-28T19:27:24.762992Z",
          "iopub.status.idle": "2021-01-28T19:27:24.827162Z",
          "shell.execute_reply": "2021-01-28T19:27:24.826472Z"
        },
        "papermill": {
          "duration": 0.135739,
          "end_time": "2021-01-28T19:27:24.827322",
          "exception": false,
          "start_time": "2021-01-28T19:27:24.691583",
          "status": "completed"
        },
        "tags": [],
        "id": "AaUyTNt_kagq"
      },
      "source": [
        "##index=false--avoid pandas creating an index in saved csv file\n",
        "dataset_test.to_csv('final_output.csv', index=False)"
      ],
      "execution_count": null,
      "outputs": []
    }
  ]
}